{
 "cells": [
  {
   "cell_type": "markdown",
   "id": "c0e10031",
   "metadata": {},
   "source": [
    "<h1 style = 'text-align: center'> Project: Facial Emotion Recognition </h1>\n",
    "<h2 style = 'text-align: center'> Applying ML Classification Models </h2>\n",
    "<h3 style = 'text-align: center'> Self-Project by: RANJAN SARKAR (ROLL - 21MA40022) </h3>\n",
    "<h3 style = 'text-align: center'> 2-Year MSc Mathematics, IIT Kharagpur </h3>"
   ]
  },
  {
   "cell_type": "markdown",
   "id": "8c8e0c58",
   "metadata": {},
   "source": [
    "Importing necessary python libraries"
   ]
  },
  {
   "cell_type": "code",
   "execution_count": 1,
   "id": "9af5e1ec",
   "metadata": {},
   "outputs": [],
   "source": [
    "import cv2\n",
    "import os\n",
    "import numpy as np\n",
    "import pandas as pd\n",
    "import seaborn as sns\n",
    "import matplotlib.pyplot as plt\n",
    "import math"
   ]
  },
  {
   "cell_type": "markdown",
   "id": "486cf498",
   "metadata": {},
   "source": [
    "## Splitting image for a single image:"
   ]
  },
  {
   "cell_type": "code",
   "execution_count": 2,
   "id": "6f80d4af",
   "metadata": {},
   "outputs": [],
   "source": [
    "image = cv2.imread(\"Data/train/angry/Training_3908.jpg\")"
   ]
  },
  {
   "cell_type": "code",
   "execution_count": 3,
   "id": "19cfd9e8",
   "metadata": {},
   "outputs": [
    {
     "data": {
      "text/plain": [
       "<matplotlib.image.AxesImage at 0x29fcc77b220>"
      ]
     },
     "execution_count": 3,
     "metadata": {},
     "output_type": "execute_result"
    },
    {
     "data": {
      "image/png": "[encoded data removed]",
      "text/plain": [
       "<Figure size 432x288 with 1 Axes>"
      ]
     },
     "metadata": {
      "needs_background": "light"
     },
     "output_type": "display_data"
    }
   ],
   "source": [
    "image_2d = cv2.cvtColor(image, cv2.COLOR_BGR2GRAY)\n",
    "plt.imshow(image_2d)"
   ]
  },
  {
   "cell_type": "markdown",
   "id": "169fe0da",
   "metadata": {},
   "source": [
    "## All the functions:"
   ]
  },
  {
   "cell_type": "markdown",
   "id": "ada00de5",
   "metadata": {},
   "source": [
    "## Making a dict of all the expressions:"
   ]
  },
  {
   "cell_type": "code",
   "execution_count": 4,
   "id": "2782712e",
   "metadata": {},
   "outputs": [],
   "source": [
    "train_exp_dict = {\"Angry\":[], \"Disgust\":[], \"Fear\":[], \"Happy\":[], \"Neutral\":[], \"Sad\":[], \"Surprise\":[]}\n",
    "train_paths = ['Data/train/angry', 'Data/train/disgust', 'Data/train/fear', 'Data/train/happy', 'Data/train/neutral', 'Data/train/sad', 'Data/train/surprise']\n",
    "for (i,j) in zip(train_exp_dict.keys(),train_paths):\n",
    "    train_exp_dict[i] = os.listdir(j)"
   ]
  },
  {
   "cell_type": "code",
   "execution_count": 5,
   "id": "a8f0b569",
   "metadata": {},
   "outputs": [],
   "source": [
    "test_exp_dict = {\"Angry\":[], \"Disgust\":[], \"Fear\":[], \"Happy\":[], \"Neutral\":[], \"Sad\":[], \"Surprise\":[]}\n",
    "test_paths = ['Data/test/angry', 'Data/test/disgust', 'Data/test/fear', 'Data/test/happy', 'Data/test/neutral', 'Data/test/sad', 'Data/test/surprise']\n",
    "for (i,j) in zip(test_exp_dict.keys(),test_paths):\n",
    "    test_exp_dict[i] = os.listdir(j)"
   ]
  },
  {
   "cell_type": "markdown",
   "id": "ac972aed",
   "metadata": {},
   "source": [
    "### Angry:"
   ]
  },
  {
   "cell_type": "code",
   "execution_count": 6,
   "id": "db6c873d",
   "metadata": {},
   "outputs": [],
   "source": [
    "train_full_list_angry = []\n",
    "for img in train_exp_dict[\"Angry\"]:\n",
    "    img_arr = cv2.imread(os.path.join(train_paths[0], img))\n",
    "#     img_arr = img_arr/255\n",
    "#     plt.figure()\n",
    "#     plt.imshow(img_arr)\n",
    "    train_full_list_angry.append(img_arr)"
   ]
  },
  {
   "cell_type": "code",
   "execution_count": 7,
   "id": "04e472e9",
   "metadata": {},
   "outputs": [],
   "source": [
    "test_full_list_angry = []\n",
    "for img in test_exp_dict[\"Angry\"]:\n",
    "    img_arr = cv2.imread(os.path.join(test_paths[0], img))\n",
    "#     img_arr = img_arr/255\n",
    "#     plt.figure()\n",
    "#     plt.imshow(img_arr)\n",
    "    test_full_list_angry.append(img_arr)"
   ]
  },
  {
   "cell_type": "markdown",
   "id": "3095d523",
   "metadata": {},
   "source": [
    "### Disgust:"
   ]
  },
  {
   "cell_type": "code",
   "execution_count": 8,
   "id": "c9574662",
   "metadata": {},
   "outputs": [],
   "source": [
    "train_full_list_disgust = []\n",
    "for img in train_exp_dict[\"Disgust\"]:\n",
    "    img_arr = cv2.imread(os.path.join(train_paths[1], img))\n",
    "#     img_arr = img_arr/255\n",
    "#     plt.figure()\n",
    "#     plt.imshow(img_arr)\n",
    "    train_full_list_disgust.append(img_arr)"
   ]
  },
  {
   "cell_type": "code",
   "execution_count": 9,
   "id": "d50b1250",
   "metadata": {},
   "outputs": [],
   "source": [
    "test_full_list_disgust = []\n",
    "for img in test_exp_dict[\"Disgust\"]:\n",
    "    img_arr = cv2.imread(os.path.join(test_paths[1], img))\n",
    "#     img_arr = img_arr/255\n",
    "#     plt.figure()\n",
    "#     plt.imshow(img_arr)\n",
    "    test_full_list_disgust.append(img_arr)"
   ]
  },
  {
   "cell_type": "markdown",
   "id": "d6506084",
   "metadata": {},
   "source": [
    "### Fear:"
   ]
  },
  {
   "cell_type": "code",
   "execution_count": 10,
   "id": "1069f75d",
   "metadata": {},
   "outputs": [],
   "source": [
    "train_full_list_fear = []\n",
    "for img in train_exp_dict[\"Fear\"]:\n",
    "    img_arr = cv2.imread(os.path.join(train_paths[2], img))\n",
    "#     img_arr = img_arr/255\n",
    "#     plt.figure()\n",
    "#     plt.imshow(img_arr)\n",
    "    train_full_list_fear.append(img_arr)"
   ]
  },
  {
   "cell_type": "code",
   "execution_count": 11,
   "id": "b1a873de",
   "metadata": {},
   "outputs": [],
   "source": [
    "test_full_list_fear = []\n",
    "for img in test_exp_dict[\"Fear\"]:\n",
    "    img_arr = cv2.imread(os.path.join(test_paths[2], img))\n",
    "#     img_arr = img_arr/255\n",
    "#     plt.figure()\n",
    "#     plt.imshow(img_arr)\n",
    "    test_full_list_fear.append(img_arr)"
   ]
  },
  {
   "cell_type": "markdown",
   "id": "16497c1b",
   "metadata": {},
   "source": [
    "### Happy:"
   ]
  },
  {
   "cell_type": "code",
   "execution_count": 12,
   "id": "eb561c7e",
   "metadata": {},
   "outputs": [],
   "source": [
    "train_full_list_happy = []\n",
    "for img in train_exp_dict[\"Happy\"]:\n",
    "    img_arr = cv2.imread(os.path.join(train_paths[3], img))\n",
    "#     img_arr = img_arr/255\n",
    "#     plt.figure()\n",
    "#     plt.imshow(img_arr)\n",
    "    train_full_list_happy.append(img_arr)"
   ]
  },
  {
   "cell_type": "code",
   "execution_count": 13,
   "id": "f656ff1a",
   "metadata": {},
   "outputs": [],
   "source": [
    "test_full_list_happy = []\n",
    "for img in test_exp_dict[\"Happy\"]:\n",
    "    img_arr = cv2.imread(os.path.join(test_paths[3], img))\n",
    "#     img_arr = img_arr/255\n",
    "#     plt.figure()\n",
    "#     plt.imshow(img_arr)\n",
    "    test_full_list_happy.append(img_arr)"
   ]
  },
  {
   "cell_type": "markdown",
   "id": "059ff54e",
   "metadata": {},
   "source": [
    "### Neutral:"
   ]
  },
  {
   "cell_type": "code",
   "execution_count": 14,
   "id": "d97a4580",
   "metadata": {},
   "outputs": [],
   "source": [
    "train_full_list_neutral = []\n",
    "for img in train_exp_dict[\"Neutral\"]:\n",
    "    img_arr = cv2.imread(os.path.join(train_paths[4], img))\n",
    "#     img_arr = img_arr/255\n",
    "#     plt.figure()\n",
    "#     plt.imshow(img_arr)\n",
    "    train_full_list_neutral.append(img_arr)"
   ]
  },
  {
   "cell_type": "code",
   "execution_count": 15,
   "id": "b4f59ed7",
   "metadata": {},
   "outputs": [],
   "source": [
    "test_full_list_neutral = []\n",
    "for img in test_exp_dict[\"Neutral\"]:\n",
    "    img_arr = cv2.imread(os.path.join(test_paths[4], img))\n",
    "#     img_arr = img_arr/255\n",
    "#     plt.figure()\n",
    "#     plt.imshow(img_arr)\n",
    "    test_full_list_neutral.append(img_arr)"
   ]
  },
  {
   "cell_type": "markdown",
   "id": "0736e242",
   "metadata": {},
   "source": [
    "### Sad:"
   ]
  },
  {
   "cell_type": "code",
   "execution_count": 16,
   "id": "77f47d69",
   "metadata": {},
   "outputs": [],
   "source": [
    "train_full_list_sad = []\n",
    "for img in train_exp_dict[\"Sad\"]:\n",
    "    img_arr = cv2.imread(os.path.join(train_paths[5], img))\n",
    "#     img_arr = img_arr/255\n",
    "#     plt.figure()\n",
    "#     plt.imshow(img_arr)\n",
    "    train_full_list_sad.append(img_arr)"
   ]
  },
  {
   "cell_type": "code",
   "execution_count": 17,
   "id": "72ea17e4",
   "metadata": {},
   "outputs": [],
   "source": [
    "test_full_list_sad = []\n",
    "for img in test_exp_dict[\"Sad\"]:\n",
    "    img_arr = cv2.imread(os.path.join(test_paths[5], img))\n",
    "#     img_arr = img_arr/255\n",
    "#     plt.figure()\n",
    "#     plt.imshow(img_arr)\n",
    "    test_full_list_sad.append(img_arr)"
   ]
  },
  {
   "cell_type": "markdown",
   "id": "3335702d",
   "metadata": {},
   "source": [
    "### Surprise:"
   ]
  },
  {
   "cell_type": "code",
   "execution_count": 18,
   "id": "2425cf1b",
   "metadata": {},
   "outputs": [],
   "source": [
    "train_full_list_surprise = []\n",
    "for img in train_exp_dict[\"Surprise\"]:\n",
    "    img_arr = cv2.imread(os.path.join(train_paths[6], img))\n",
    "#     img_arr = img_arr/255\n",
    "#     plt.figure()\n",
    "#     plt.imshow(img_arr)\n",
    "    train_full_list_surprise.append(img_arr)"
   ]
  },
  {
   "cell_type": "code",
   "execution_count": 19,
   "id": "ad56031a",
   "metadata": {},
   "outputs": [],
   "source": [
    "test_full_list_surprise = []\n",
    "for img in test_exp_dict[\"Surprise\"]:\n",
    "    img_arr = cv2.imread(os.path.join(test_paths[6], img))\n",
    "#     img_arr = img_arr/255\n",
    "#     plt.figure()\n",
    "#     plt.imshow(img_arr)\n",
    "    test_full_list_surprise.append(img_arr)"
   ]
  },
  {
   "cell_type": "code",
   "execution_count": 20,
   "id": "c1bb9092",
   "metadata": {
    "scrolled": true
   },
   "outputs": [
    {
     "data": {
      "text/plain": [
       "(48, 48, 3)"
      ]
     },
     "execution_count": 20,
     "metadata": {},
     "output_type": "execute_result"
    }
   ],
   "source": [
    "test_full_list_disgust[1].shape"
   ]
  },
  {
   "cell_type": "markdown",
   "id": "07e473d6",
   "metadata": {},
   "source": [
    "## Appending all the expressions in a single list for train and test:"
   ]
  },
  {
   "cell_type": "code",
   "execution_count": 21,
   "id": "d2f2f3ae",
   "metadata": {},
   "outputs": [],
   "source": [
    "l1 = [train_full_list_angry,train_full_list_disgust,train_full_list_fear,train_full_list_happy,\n",
    "      train_full_list_neutral,train_full_list_sad,train_full_list_surprise]\n",
    "\n",
    "l2 = [test_full_list_angry,test_full_list_disgust,test_full_list_fear,test_full_list_happy,\n",
    "      test_full_list_neutral,test_full_list_sad,test_full_list_surprise]"
   ]
  },
  {
   "cell_type": "code",
   "execution_count": 22,
   "id": "83a331f7",
   "metadata": {},
   "outputs": [],
   "source": [
    "lis = []\n",
    "for i in l1:\n",
    "    lis.extend(i)\n",
    "\n",
    "lis1 = []\n",
    "for i in l2:\n",
    "    lis1.extend(i)"
   ]
  },
  {
   "cell_type": "code",
   "execution_count": 23,
   "id": "39f889e2",
   "metadata": {},
   "outputs": [
    {
     "data": {
      "text/plain": [
       "(48, 48, 3)"
      ]
     },
     "execution_count": 23,
     "metadata": {},
     "output_type": "execute_result"
    }
   ],
   "source": [
    "lis[1].shape"
   ]
  },
  {
   "cell_type": "code",
   "execution_count": 24,
   "id": "aed3ad3f",
   "metadata": {},
   "outputs": [],
   "source": [
    "train_list = lis\n",
    "\n",
    "test_list = lis1"
   ]
  },
  {
   "cell_type": "code",
   "execution_count": 25,
   "id": "20ea230f",
   "metadata": {},
   "outputs": [],
   "source": [
    "train_list_upd = np.array([i.flatten() for i in train_list])\n",
    "test_list_upd = [i.flatten() for i in test_list]"
   ]
  },
  {
   "cell_type": "code",
   "execution_count": 26,
   "id": "d8fa1f31",
   "metadata": {},
   "outputs": [
    {
     "data": {
      "text/plain": [
       "(28709, 6912)"
      ]
     },
     "execution_count": 26,
     "metadata": {},
     "output_type": "execute_result"
    }
   ],
   "source": [
    "train_list_upd.shape"
   ]
  },
  {
   "cell_type": "markdown",
   "id": "fe552708",
   "metadata": {},
   "source": [
    "-----------"
   ]
  },
  {
   "cell_type": "code",
   "execution_count": 27,
   "id": "4c686150",
   "metadata": {},
   "outputs": [],
   "source": [
    "label = 1\n",
    "y_train = []\n",
    "for i in l1:\n",
    "    y_train.extend(np.repeat(label , len(i)))\n",
    "    label += 1\n",
    "\n",
    "label1 = 1\n",
    "y_test = []\n",
    "for i in l2:\n",
    "    y_test.extend(np.repeat(label1 , len(i)))\n",
    "    label1 += 1"
   ]
  },
  {
   "cell_type": "code",
   "execution_count": 28,
   "id": "91da402a",
   "metadata": {},
   "outputs": [
    {
     "data": {
      "text/plain": [
       "(28709, 7178)"
      ]
     },
     "execution_count": 28,
     "metadata": {},
     "output_type": "execute_result"
    }
   ],
   "source": [
    "len(y_train), len(y_test)"
   ]
  },
  {
   "cell_type": "markdown",
   "id": "430eb64c",
   "metadata": {},
   "source": [
    "# Applying ML Classification Models:\n",
    "\n",
    "1. Logistic Regression\n",
    "2. KNN\n",
    "3. Decision Tree\n",
    "4. SVM\n",
    "5. Random Forest"
   ]
  },
  {
   "cell_type": "markdown",
   "id": "3563fbc4",
   "metadata": {},
   "source": [
    "## KNN:"
   ]
  },
  {
   "cell_type": "code",
   "execution_count": 42,
   "id": "61ad47f5",
   "metadata": {},
   "outputs": [],
   "source": [
    "from sklearn.neighbors import KNeighborsClassifier"
   ]
  },
  {
   "cell_type": "code",
   "execution_count": 43,
   "id": "84430c24",
   "metadata": {},
   "outputs": [],
   "source": [
    "k =[KNeighborsClassifier(n_neighbors=i+1) for i in range(15)]"
   ]
  },
  {
   "cell_type": "code",
   "execution_count": 44,
   "id": "78c57311",
   "metadata": {},
   "outputs": [],
   "source": [
    "models = [i.fit(train_list_upd, y_train) for i in k]"
   ]
  },
  {
   "cell_type": "code",
   "execution_count": 45,
   "id": "796800e0",
   "metadata": {},
   "outputs": [
    {
     "data": {
      "text/plain": [
       "0.32237392031206463"
      ]
     },
     "execution_count": 45,
     "metadata": {},
     "output_type": "execute_result"
    }
   ],
   "source": [
    "models[10].score(test_list_upd, y_test)"
   ]
  },
  {
   "cell_type": "code",
   "execution_count": null,
   "id": "b7eb40eb",
   "metadata": {},
   "outputs": [],
   "source": [
    "# model_train_score = [i.score(train_list_upd,y_train) for i in f_global]"
   ]
  },
  {
   "cell_type": "code",
   "execution_count": null,
   "id": "259a3df8",
   "metadata": {},
   "outputs": [],
   "source": [
    "# df1 = pd.DataFrame(model_train_score)\n",
    "# print(df1)\n",
    "# plt.plot(df1)\n",
    "# plt.show()"
   ]
  },
  {
   "cell_type": "code",
   "execution_count": 46,
   "id": "a4310c44",
   "metadata": {
    "collapsed": true
   },
   "outputs": [
    {
     "ename": "NameError",
     "evalue": "name 's_global_train' is not defined",
     "output_type": "error",
     "traceback": [
      "\u001b[1;31m---------------------------------------------------------------------------\u001b[0m",
      "\u001b[1;31mNameError\u001b[0m                                 Traceback (most recent call last)",
      "Input \u001b[1;32mIn [46]\u001b[0m, in \u001b[0;36m<cell line: 1>\u001b[1;34m()\u001b[0m\n\u001b[1;32m----> 1\u001b[0m knn_accuracy_global_train \u001b[38;5;241m=\u001b[39m \u001b[43ms_global_train\u001b[49m[\u001b[38;5;241m1\u001b[39m]\n",
      "\u001b[1;31mNameError\u001b[0m: name 's_global_train' is not defined"
     ]
    }
   ],
   "source": [
    "# knn_accuracy_global_train = s_global_train[1]\n",
    "### train_accuracy"
   ]
  },
  {
   "cell_type": "code",
   "execution_count": 48,
   "id": "d3b27493",
   "metadata": {},
   "outputs": [],
   "source": [
    "model_test_score = [i.score(test_list_upd, y_test) for i in models]"
   ]
  },
  {
   "cell_type": "code",
   "execution_count": 49,
   "id": "26c6bb64",
   "metadata": {},
   "outputs": [
    {
     "data": {
      "text/html": [
       "<div>\n",
       "<style scoped>\n",
       "    .dataframe tbody tr th:only-of-type {\n",
       "        vertical-align: middle;\n",
       "    }\n",
       "\n",
       "    .dataframe tbody tr th {\n",
       "        vertical-align: top;\n",
       "    }\n",
       "\n",
       "    .dataframe thead th {\n",
       "        text-align: right;\n",
       "    }\n",
       "</style>\n",
       "<table border=\"1\" class=\"dataframe\">\n",
       "  <thead>\n",
       "    <tr style=\"text-align: right;\">\n",
       "      <th></th>\n",
       "      <th>0</th>\n",
       "    </tr>\n",
       "  </thead>\n",
       "  <tbody>\n",
       "    <tr>\n",
       "      <th>0</th>\n",
       "      <td>0.402898</td>\n",
       "    </tr>\n",
       "    <tr>\n",
       "      <th>1</th>\n",
       "      <td>0.344804</td>\n",
       "    </tr>\n",
       "    <tr>\n",
       "      <th>2</th>\n",
       "      <td>0.337699</td>\n",
       "    </tr>\n",
       "    <tr>\n",
       "      <th>3</th>\n",
       "      <td>0.336863</td>\n",
       "    </tr>\n",
       "    <tr>\n",
       "      <th>4</th>\n",
       "      <td>0.334355</td>\n",
       "    </tr>\n",
       "    <tr>\n",
       "      <th>5</th>\n",
       "      <td>0.324603</td>\n",
       "    </tr>\n",
       "    <tr>\n",
       "      <th>6</th>\n",
       "      <td>0.323767</td>\n",
       "    </tr>\n",
       "    <tr>\n",
       "      <th>7</th>\n",
       "      <td>0.320145</td>\n",
       "    </tr>\n",
       "    <tr>\n",
       "      <th>8</th>\n",
       "      <td>0.323488</td>\n",
       "    </tr>\n",
       "    <tr>\n",
       "      <th>9</th>\n",
       "      <td>0.322235</td>\n",
       "    </tr>\n",
       "    <tr>\n",
       "      <th>10</th>\n",
       "      <td>0.322374</td>\n",
       "    </tr>\n",
       "    <tr>\n",
       "      <th>11</th>\n",
       "      <td>0.324324</td>\n",
       "    </tr>\n",
       "    <tr>\n",
       "      <th>12</th>\n",
       "      <td>0.320145</td>\n",
       "    </tr>\n",
       "    <tr>\n",
       "      <th>13</th>\n",
       "      <td>0.322095</td>\n",
       "    </tr>\n",
       "    <tr>\n",
       "      <th>14</th>\n",
       "      <td>0.321399</td>\n",
       "    </tr>\n",
       "  </tbody>\n",
       "</table>\n",
       "</div>"
      ],
      "text/plain": [
       "           0\n",
       "0   0.402898\n",
       "1   0.344804\n",
       "2   0.337699\n",
       "3   0.336863\n",
       "4   0.334355\n",
       "5   0.324603\n",
       "6   0.323767\n",
       "7   0.320145\n",
       "8   0.323488\n",
       "9   0.322235\n",
       "10  0.322374\n",
       "11  0.324324\n",
       "12  0.320145\n",
       "13  0.322095\n",
       "14  0.321399"
      ]
     },
     "metadata": {},
     "output_type": "display_data"
    },
    {
     "data": {
      "image/png": "[encoded data removed]",
      "text/plain": [
       "<Figure size 432x288 with 1 Axes>"
      ]
     },
     "metadata": {
      "needs_background": "light"
     },
     "output_type": "display_data"
    }
   ],
   "source": [
    "df2 = pd.DataFrame(model_test_score)\n",
    "display(df2)\n",
    "plt.plot(df2)\n",
    "plt.show()"
   ]
  },
  {
   "cell_type": "code",
   "execution_count": 50,
   "id": "999ed360",
   "metadata": {},
   "outputs": [
    {
     "data": {
      "text/plain": [
       "0.344803566453051"
      ]
     },
     "execution_count": 50,
     "metadata": {},
     "output_type": "execute_result"
    }
   ],
   "source": [
    "knn_accuracy = model_test_score[1]\n",
    "knn_accuracy"
   ]
  },
  {
   "cell_type": "code",
   "execution_count": 51,
   "id": "947e56d2",
   "metadata": {},
   "outputs": [
    {
     "data": {
      "text/plain": [
       "array([5, 4, 2, ..., 5, 6, 3])"
      ]
     },
     "execution_count": 51,
     "metadata": {},
     "output_type": "execute_result"
    }
   ],
   "source": [
    "y_pred = models[1].predict(test_list_upd)\n",
    "y_pred"
   ]
  },
  {
   "cell_type": "code",
   "execution_count": 38,
   "id": "797f4dce",
   "metadata": {},
   "outputs": [],
   "source": [
    "from sklearn.metrics import confusion_matrix"
   ]
  },
  {
   "cell_type": "code",
   "execution_count": 53,
   "id": "2e29b7f8",
   "metadata": {},
   "outputs": [
    {
     "data": {
      "text/plain": [
       "<AxesSubplot:>"
      ]
     },
     "execution_count": 53,
     "metadata": {},
     "output_type": "execute_result"
    },
    {
     "data": {
      "image/png": "[encoded data removed]",
      "text/plain": [
       "<Figure size 432x288 with 2 Axes>"
      ]
     },
     "metadata": {
      "needs_background": "light"
     },
     "output_type": "display_data"
    }
   ],
   "source": [
    "sns.heatmap(confusion_matrix(y_test, y_pred))"
   ]
  },
  {
   "cell_type": "markdown",
   "id": "364690d0",
   "metadata": {},
   "source": [
    "## SVM:"
   ]
  },
  {
   "cell_type": "code",
   "execution_count": 29,
   "id": "475eb3f2",
   "metadata": {},
   "outputs": [],
   "source": [
    "from sklearn.svm import SVC"
   ]
  },
  {
   "cell_type": "code",
   "execution_count": 33,
   "id": "a1bd8566",
   "metadata": {},
   "outputs": [],
   "source": [
    "import random\n",
    "x_train, y_train = random.sample(list(train_list_upd), 3000), random.sample(y_train, 3000)\n",
    "x_test, y_test = random.sample(list(train_list_upd), 500), random.sample(y_train, 500)"
   ]
  },
  {
   "cell_type": "markdown",
   "id": "66fdb364",
   "metadata": {},
   "source": [
    "### Sigmoid kernel:"
   ]
  },
  {
   "cell_type": "code",
   "execution_count": 34,
   "id": "7e43e6c4",
   "metadata": {},
   "outputs": [
    {
     "data": {
      "text/html": [
       "<style>#sk-container-id-1 {color: black;background-color: white;}#sk-container-id-1 pre{padding: 0;}#sk-container-id-1 div.sk-toggleable {background-color: white;}#sk-container-id-1 label.sk-toggleable__label {cursor: pointer;display: block;width: 100%;margin-bottom: 0;padding: 0.3em;box-sizing: border-box;text-align: center;}#sk-container-id-1 label.sk-toggleable__label-arrow:before {content: \"▸\";float: left;margin-right: 0.25em;color: #696969;}#sk-container-id-1 label.sk-toggleable__label-arrow:hover:before {color: black;}#sk-container-id-1 div.sk-estimator:hover label.sk-toggleable__label-arrow:before {color: black;}#sk-container-id-1 div.sk-toggleable__content {max-height: 0;max-width: 0;overflow: hidden;text-align: left;background-color: #f0f8ff;}#sk-container-id-1 div.sk-toggleable__content pre {margin: 0.2em;color: black;border-radius: 0.25em;background-color: #f0f8ff;}#sk-container-id-1 input.sk-toggleable__control:checked~div.sk-toggleable__content {max-height: 200px;max-width: 100%;overflow: auto;}#sk-container-id-1 input.sk-toggleable__control:checked~label.sk-toggleable__label-arrow:before {content: \"▾\";}#sk-container-id-1 div.sk-estimator input.sk-toggleable__control:checked~label.sk-toggleable__label {background-color: #d4ebff;}#sk-container-id-1 div.sk-label input.sk-toggleable__control:checked~label.sk-toggleable__label {background-color: #d4ebff;}#sk-container-id-1 input.sk-hidden--visually {border: 0;clip: rect(1px 1px 1px 1px);clip: rect(1px, 1px, 1px, 1px);height: 1px;margin: -1px;overflow: hidden;padding: 0;position: absolute;width: 1px;}#sk-container-id-1 div.sk-estimator {font-family: monospace;background-color: #f0f8ff;border: 1px dotted black;border-radius: 0.25em;box-sizing: border-box;margin-bottom: 0.5em;}#sk-container-id-1 div.sk-estimator:hover {background-color: #d4ebff;}#sk-container-id-1 div.sk-parallel-item::after {content: \"\";width: 100%;border-bottom: 1px solid gray;flex-grow: 1;}#sk-container-id-1 div.sk-label:hover label.sk-toggleable__label {background-color: #d4ebff;}#sk-container-id-1 div.sk-serial::before {content: \"\";position: absolute;border-left: 1px solid gray;box-sizing: border-box;top: 0;bottom: 0;left: 50%;z-index: 0;}#sk-container-id-1 div.sk-serial {display: flex;flex-direction: column;align-items: center;background-color: white;padding-right: 0.2em;padding-left: 0.2em;position: relative;}#sk-container-id-1 div.sk-item {position: relative;z-index: 1;}#sk-container-id-1 div.sk-parallel {display: flex;align-items: stretch;justify-content: center;background-color: white;position: relative;}#sk-container-id-1 div.sk-item::before, #sk-container-id-1 div.sk-parallel-item::before {content: \"\";position: absolute;border-left: 1px solid gray;box-sizing: border-box;top: 0;bottom: 0;left: 50%;z-index: -1;}#sk-container-id-1 div.sk-parallel-item {display: flex;flex-direction: column;z-index: 1;position: relative;background-color: white;}#sk-container-id-1 div.sk-parallel-item:first-child::after {align-self: flex-end;width: 50%;}#sk-container-id-1 div.sk-parallel-item:last-child::after {align-self: flex-start;width: 50%;}#sk-container-id-1 div.sk-parallel-item:only-child::after {width: 0;}#sk-container-id-1 div.sk-dashed-wrapped {border: 1px dashed gray;margin: 0 0.4em 0.5em 0.4em;box-sizing: border-box;padding-bottom: 0.4em;background-color: white;}#sk-container-id-1 div.sk-label label {font-family: monospace;font-weight: bold;display: inline-block;line-height: 1.2em;}#sk-container-id-1 div.sk-label-container {text-align: center;}#sk-container-id-1 div.sk-container {/* jupyter's `normalize.less` sets `[hidden] { display: none; }` but bootstrap.min.css set `[hidden] { display: none !important; }` so we also need the `!important` here to be able to override the default hidden behavior on the sphinx rendered scikit-learn.org. See: https://github.com/scikit-learn/scikit-learn/issues/21755 */display: inline-block !important;position: relative;}#sk-container-id-1 div.sk-text-repr-fallback {display: none;}</style><div id=\"sk-container-id-1\" class=\"sk-top-container\"><div class=\"sk-text-repr-fallback\"><pre>SVC(kernel=&#x27;sigmoid&#x27;, random_state=0)</pre><b>In a Jupyter environment, please rerun this cell to show the HTML representation or trust the notebook. <br />On GitHub, the HTML representation is unable to render, please try loading this page with nbviewer.org.</b></div><div class=\"sk-container\" hidden><div class=\"sk-item\"><div class=\"sk-estimator sk-toggleable\"><input class=\"sk-toggleable__control sk-hidden--visually\" id=\"sk-estimator-id-1\" type=\"checkbox\" checked><label for=\"sk-estimator-id-1\" class=\"sk-toggleable__label sk-toggleable__label-arrow\">SVC</label><div class=\"sk-toggleable__content\"><pre>SVC(kernel=&#x27;sigmoid&#x27;, random_state=0)</pre></div></div></div></div></div>"
      ],
      "text/plain": [
       "SVC(kernel='sigmoid', random_state=0)"
      ]
     },
     "execution_count": 34,
     "metadata": {},
     "output_type": "execute_result"
    }
   ],
   "source": [
    "classifier_sigmoid = SVC(kernel='sigmoid', random_state = 0)\n",
    "classifier_sigmoid.fit(x_train, y_train)"
   ]
  },
  {
   "cell_type": "code",
   "execution_count": 36,
   "id": "4a2f3393",
   "metadata": {},
   "outputs": [],
   "source": [
    "sigmoid_pred = classifier_sigmoid.predict(x_test)"
   ]
  },
  {
   "cell_type": "code",
   "execution_count": null,
   "id": "39f01690",
   "metadata": {},
   "outputs": [],
   "source": [
    "cm1_train = confusion_matrix(y_train, sigmoid_pred)\n",
    "accuracy_train = float(cm1_train.diagonal().sum())/len(y_train)\n",
    "print(\"\\nAccuracy Of SVM with sigmoid kernel for train data : \", accuracy_train)"
   ]
  },
  {
   "cell_type": "code",
   "execution_count": null,
   "id": "f7c411aa",
   "metadata": {},
   "outputs": [],
   "source": [
    "sigmoid_pred = classifier_global.predict(x_test)"
   ]
  },
  {
   "cell_type": "code",
   "execution_count": 39,
   "id": "185a73cb",
   "metadata": {},
   "outputs": [
    {
     "name": "stdout",
     "output_type": "stream",
     "text": [
      "\n",
      "Accuracy Of SVM with sigmoid kernel :  0.196\n"
     ]
    }
   ],
   "source": [
    "cm1_test = confusion_matrix(y_test,sigmoid_pred)\n",
    "accuracy_test = float(cm1_test.diagonal().sum())/len(y_test)\n",
    "print(\"\\nAccuracy Of SVM with sigmoid kernel : \", accuracy_test)"
   ]
  },
  {
   "cell_type": "markdown",
   "id": "cc5e74ba",
   "metadata": {},
   "source": [
    "## Logistic Regression:"
   ]
  },
  {
   "cell_type": "code",
   "execution_count": 40,
   "id": "492be148",
   "metadata": {},
   "outputs": [],
   "source": [
    "from sklearn.linear_model import LogisticRegression"
   ]
  },
  {
   "cell_type": "code",
   "execution_count": 41,
   "id": "6c6e72e3",
   "metadata": {},
   "outputs": [
    {
     "name": "stderr",
     "output_type": "stream",
     "text": [
      "C:\\Users\\hp\\AppData\\Local\\Programs\\Python\\Python310\\lib\\site-packages\\sklearn\\utils\\optimize.py:210: ConvergenceWarning: newton-cg failed to converge. Increase the number of iterations.\n",
      "  warnings.warn(\n"
     ]
    },
    {
     "data": {
      "text/html": [
       "<style>#sk-container-id-2 {color: black;background-color: white;}#sk-container-id-2 pre{padding: 0;}#sk-container-id-2 div.sk-toggleable {background-color: white;}#sk-container-id-2 label.sk-toggleable__label {cursor: pointer;display: block;width: 100%;margin-bottom: 0;padding: 0.3em;box-sizing: border-box;text-align: center;}#sk-container-id-2 label.sk-toggleable__label-arrow:before {content: \"▸\";float: left;margin-right: 0.25em;color: #696969;}#sk-container-id-2 label.sk-toggleable__label-arrow:hover:before {color: black;}#sk-container-id-2 div.sk-estimator:hover label.sk-toggleable__label-arrow:before {color: black;}#sk-container-id-2 div.sk-toggleable__content {max-height: 0;max-width: 0;overflow: hidden;text-align: left;background-color: #f0f8ff;}#sk-container-id-2 div.sk-toggleable__content pre {margin: 0.2em;color: black;border-radius: 0.25em;background-color: #f0f8ff;}#sk-container-id-2 input.sk-toggleable__control:checked~div.sk-toggleable__content {max-height: 200px;max-width: 100%;overflow: auto;}#sk-container-id-2 input.sk-toggleable__control:checked~label.sk-toggleable__label-arrow:before {content: \"▾\";}#sk-container-id-2 div.sk-estimator input.sk-toggleable__control:checked~label.sk-toggleable__label {background-color: #d4ebff;}#sk-container-id-2 div.sk-label input.sk-toggleable__control:checked~label.sk-toggleable__label {background-color: #d4ebff;}#sk-container-id-2 input.sk-hidden--visually {border: 0;clip: rect(1px 1px 1px 1px);clip: rect(1px, 1px, 1px, 1px);height: 1px;margin: -1px;overflow: hidden;padding: 0;position: absolute;width: 1px;}#sk-container-id-2 div.sk-estimator {font-family: monospace;background-color: #f0f8ff;border: 1px dotted black;border-radius: 0.25em;box-sizing: border-box;margin-bottom: 0.5em;}#sk-container-id-2 div.sk-estimator:hover {background-color: #d4ebff;}#sk-container-id-2 div.sk-parallel-item::after {content: \"\";width: 100%;border-bottom: 1px solid gray;flex-grow: 1;}#sk-container-id-2 div.sk-label:hover label.sk-toggleable__label {background-color: #d4ebff;}#sk-container-id-2 div.sk-serial::before {content: \"\";position: absolute;border-left: 1px solid gray;box-sizing: border-box;top: 0;bottom: 0;left: 50%;z-index: 0;}#sk-container-id-2 div.sk-serial {display: flex;flex-direction: column;align-items: center;background-color: white;padding-right: 0.2em;padding-left: 0.2em;position: relative;}#sk-container-id-2 div.sk-item {position: relative;z-index: 1;}#sk-container-id-2 div.sk-parallel {display: flex;align-items: stretch;justify-content: center;background-color: white;position: relative;}#sk-container-id-2 div.sk-item::before, #sk-container-id-2 div.sk-parallel-item::before {content: \"\";position: absolute;border-left: 1px solid gray;box-sizing: border-box;top: 0;bottom: 0;left: 50%;z-index: -1;}#sk-container-id-2 div.sk-parallel-item {display: flex;flex-direction: column;z-index: 1;position: relative;background-color: white;}#sk-container-id-2 div.sk-parallel-item:first-child::after {align-self: flex-end;width: 50%;}#sk-container-id-2 div.sk-parallel-item:last-child::after {align-self: flex-start;width: 50%;}#sk-container-id-2 div.sk-parallel-item:only-child::after {width: 0;}#sk-container-id-2 div.sk-dashed-wrapped {border: 1px dashed gray;margin: 0 0.4em 0.5em 0.4em;box-sizing: border-box;padding-bottom: 0.4em;background-color: white;}#sk-container-id-2 div.sk-label label {font-family: monospace;font-weight: bold;display: inline-block;line-height: 1.2em;}#sk-container-id-2 div.sk-label-container {text-align: center;}#sk-container-id-2 div.sk-container {/* jupyter's `normalize.less` sets `[hidden] { display: none; }` but bootstrap.min.css set `[hidden] { display: none !important; }` so we also need the `!important` here to be able to override the default hidden behavior on the sphinx rendered scikit-learn.org. See: https://github.com/scikit-learn/scikit-learn/issues/21755 */display: inline-block !important;position: relative;}#sk-container-id-2 div.sk-text-repr-fallback {display: none;}</style><div id=\"sk-container-id-2\" class=\"sk-top-container\"><div class=\"sk-text-repr-fallback\"><pre>LogisticRegression(random_state=0, solver=&#x27;newton-cg&#x27;)</pre><b>In a Jupyter environment, please rerun this cell to show the HTML representation or trust the notebook. <br />On GitHub, the HTML representation is unable to render, please try loading this page with nbviewer.org.</b></div><div class=\"sk-container\" hidden><div class=\"sk-item\"><div class=\"sk-estimator sk-toggleable\"><input class=\"sk-toggleable__control sk-hidden--visually\" id=\"sk-estimator-id-2\" type=\"checkbox\" checked><label for=\"sk-estimator-id-2\" class=\"sk-toggleable__label sk-toggleable__label-arrow\">LogisticRegression</label><div class=\"sk-toggleable__content\"><pre>LogisticRegression(random_state=0, solver=&#x27;newton-cg&#x27;)</pre></div></div></div></div></div>"
      ],
      "text/plain": [
       "LogisticRegression(random_state=0, solver='newton-cg')"
      ]
     },
     "execution_count": 41,
     "metadata": {},
     "output_type": "execute_result"
    }
   ],
   "source": [
    "model_global = LogisticRegression(solver='newton-cg', random_state=0)\n",
    "model_global.fit(x_train, y_train)"
   ]
  },
  {
   "cell_type": "code",
   "execution_count": null,
   "id": "8fdc2058",
   "metadata": {},
   "outputs": [],
   "source": [
    "y_log_pred_train = model_global.predict(x_train)\n",
    "pd.value_counts(y_log_pred_train)"
   ]
  },
  {
   "cell_type": "code",
   "execution_count": null,
   "id": "774bd218",
   "metadata": {},
   "outputs": [],
   "source": [
    "logistic_acc__train = model_global.score(x_train, y_train)\n",
    "logistic_acc__train"
   ]
  },
  {
   "cell_type": "code",
   "execution_count": 42,
   "id": "c34cc104",
   "metadata": {},
   "outputs": [
    {
     "data": {
      "text/plain": [
       "4    122\n",
       "5     92\n",
       "6     87\n",
       "3     84\n",
       "1     67\n",
       "7     43\n",
       "2      5\n",
       "dtype: int64"
      ]
     },
     "execution_count": 42,
     "metadata": {},
     "output_type": "execute_result"
    }
   ],
   "source": [
    "y_log_pred = model_global.predict(x_test)\n",
    "pd.value_counts(y_log_pred)"
   ]
  },
  {
   "cell_type": "code",
   "execution_count": 54,
   "id": "7845bc2c",
   "metadata": {},
   "outputs": [
    {
     "data": {
      "text/plain": [
       "0.152"
      ]
     },
     "execution_count": 54,
     "metadata": {},
     "output_type": "execute_result"
    }
   ],
   "source": [
    "logistic_acc = model_global.score(x_test, y_test)\n",
    "logistic_acc"
   ]
  },
  {
   "cell_type": "markdown",
   "id": "ca963b08",
   "metadata": {},
   "source": [
    "## Decision tree:"
   ]
  },
  {
   "cell_type": "code",
   "execution_count": 43,
   "id": "03613650",
   "metadata": {},
   "outputs": [],
   "source": [
    "from sklearn.tree import DecisionTreeClassifier\n",
    "from sklearn import metrics"
   ]
  },
  {
   "cell_type": "code",
   "execution_count": 44,
   "id": "3b0efd0f",
   "metadata": {},
   "outputs": [],
   "source": [
    "# Function to perform training with giniIndex.\n",
    "def train_using_gini(X_train, X_test, y_train):\n",
    "  \n",
    "    # Creating the classifier object\n",
    "    clf_gini = DecisionTreeClassifier(criterion = \"gini\",\n",
    "            random_state = 100,max_depth=3, min_samples_leaf=5)\n",
    "  \n",
    "    # Performing training\n",
    "    clf_gini.fit(X_train, y_train)\n",
    "    return clf_gini\n",
    "      "
   ]
  },
  {
   "cell_type": "code",
   "execution_count": 45,
   "id": "755ffe79",
   "metadata": {},
   "outputs": [],
   "source": [
    "# Function to perform training with entropy.\n",
    "def tarin_using_entropy(X_train, X_test, y_train):\n",
    "  \n",
    "    # Decision tree with entropy\n",
    "    clf_entropy = DecisionTreeClassifier(\n",
    "            criterion = \"entropy\", random_state = 100,\n",
    "            max_depth = 3, min_samples_leaf = 5)\n",
    "  \n",
    "    # Performing training\n",
    "    clf_entropy.fit(X_train, y_train)\n",
    "    return clf_entropy\n",
    "  \n",
    "  "
   ]
  },
  {
   "cell_type": "code",
   "execution_count": 46,
   "id": "5c3c6105",
   "metadata": {},
   "outputs": [],
   "source": [
    "# Function to make predictions\n",
    "def prediction(X_test, clf_object):\n",
    "  \n",
    "    # Predicton on test with giniIndex\n",
    "    y_pred = clf_object.predict(X_test)\n",
    "    print(\"Predicted values:\")\n",
    "    print(y_pred)\n",
    "    return y_pred\n",
    "      \n",
    "# Function to calculate accuracy\n",
    "def cal_accuracy(y_test, y_pred):\n",
    "      \n",
    "    print(\"Confusion Matrix: \",\n",
    "        confusion_matrix(y_test, y_pred))\n",
    "      \n",
    "    print (\"Accuracy : \",\n",
    "    metrics.accuracy_score(y_test,y_pred)*100)"
   ]
  },
  {
   "cell_type": "code",
   "execution_count": 47,
   "id": "ebac5944",
   "metadata": {},
   "outputs": [],
   "source": [
    "clf_gini_global = train_using_gini(x_train, x_test, y_train)\n",
    "clf_entropy_global = tarin_using_entropy(x_train, x_test, y_train)"
   ]
  },
  {
   "cell_type": "code",
   "execution_count": 49,
   "id": "65eef84c",
   "metadata": {},
   "outputs": [
    {
     "name": "stdout",
     "output_type": "stream",
     "text": [
      "Predicted values:\n",
      "[4 4 4 ... 4 4 4]\n",
      "Confusion Matrix:  [[ 16   0   5 390   3   1   0]\n",
      " [  0   0   0  36   0   0   0]\n",
      " [  3   0  12 402   4   1   0]\n",
      " [  6   0   7 749   1   0   0]\n",
      " [  3   0   5 508  19   3   0]\n",
      " [  4   0   3 473   2  16   0]\n",
      " [  3   0   4 319   2   0   0]]\n",
      "Accuracy :  27.066666666666666\n"
     ]
    }
   ],
   "source": [
    "y_pred_gini_global_train = prediction(x_train, clf_gini_global)\n",
    "dt_gini_accuracy_global_train = cal_accuracy(y_train, y_pred_gini_global_train)\n",
    "dt_gini_accuracy_global_train"
   ]
  },
  {
   "cell_type": "code",
   "execution_count": 50,
   "id": "d2a4ed02",
   "metadata": {},
   "outputs": [
    {
     "name": "stdout",
     "output_type": "stream",
     "text": [
      "Predicted values:\n",
      "[4 4 4 ... 4 4 4]\n",
      "Confusion Matrix:  [[ 25   0   2 352  35   1   0]\n",
      " [  0   0   0  28   8   0   0]\n",
      " [  9   0   7 375  31   0   0]\n",
      " [ 24   0   7 686  42   4   0]\n",
      " [ 19   0   0 432  84   3   0]\n",
      " [ 14   0   2 431  42   9   0]\n",
      " [  1   0   1 306  14   6   0]]\n",
      "Accuracy :  27.03333333333333\n"
     ]
    }
   ],
   "source": [
    "y_pred_entropy_global_train = prediction(x_train, clf_entropy_global)\n",
    "dt_entropy_accuracy_global_train = cal_accuracy(y_train, y_pred_entropy_global_train)\n",
    "dt_entropy_accuracy_global_train"
   ]
  },
  {
   "cell_type": "code",
   "execution_count": 52,
   "id": "e6f8c0f1",
   "metadata": {
    "scrolled": true
   },
   "outputs": [
    {
     "name": "stdout",
     "output_type": "stream",
     "text": [
      "Predicted values:\n",
      "[4 4 4 4 4 4 4 4 4 4 4 4 4 4 4 4 4 4 4 4 4 4 4 4 4 4 4 4 1 4 4 4 4 4 4 4 4\n",
      " 4 4 4 4 4 4 4 4 4 4 4 4 4 4 4 4 4 4 4 4 4 4 4 4 4 4 4 4 4 5 4 4 4 4 4 4 4\n",
      " 4 4 4 4 4 4 4 4 4 4 4 4 4 4 4 4 4 4 4 4 5 4 4 4 4 4 4 4 4 4 4 4 4 4 4 4 3\n",
      " 4 4 4 4 4 4 4 4 4 4 4 4 4 4 4 4 4 4 4 4 4 4 4 4 4 4 4 4 4 4 4 4 4 4 4 1 4\n",
      " 4 4 4 4 4 4 3 4 4 4 4 4 4 4 5 4 4 4 4 4 4 4 4 4 4 4 4 4 4 4 4 4 4 4 4 4 4\n",
      " 4 4 1 5 4 4 4 4 4 4 4 4 4 4 4 4 4 4 4 4 4 4 4 4 4 4 4 4 4 4 5 4 4 4 4 4 4\n",
      " 4 4 1 4 4 4 4 4 4 4 4 4 4 4 4 3 1 4 4 4 4 4 4 4 4 4 4 4 4 4 4 4 4 4 4 4 4\n",
      " 4 4 4 4 4 4 4 4 4 4 4 4 4 4 4 4 4 4 4 4 4 4 4 4 4 4 6 4 4 4 4 4 4 4 4 4 4\n",
      " 4 4 4 4 4 4 4 4 4 4 4 4 4 4 4 1 4 4 4 4 4 4 4 4 4 4 4 4 4 4 4 4 4 4 4 4 4\n",
      " 4 4 4 3 4 4 4 4 4 3 4 4 4 4 4 4 4 4 4 4 4 4 4 4 4 4 4 1 4 4 4 4 4 4 4 4 4\n",
      " 4 4 4 4 4 4 4 4 4 4 4 4 4 4 4 4 4 4 4 4 4 4 4 4 4 4 4 4 4 4 4 4 4 4 5 3 4\n",
      " 4 4 4 4 4 4 4 4 4 4 4 4 4 4 4 4 4 4 4 4 4 4 4 4 4 4 4 4 4 4 4 4 4 4 4 4 4\n",
      " 4 4 5 4 4 4 4 4 4 4 4 4 4 4 4 4 4 4 4 4 4 4 4 4 4 4 4 4 4 4 4 4 4 4 4 4 4\n",
      " 4 4 3 4 4 4 4 4 4 4 4 4 4 4 4 4 4 4 4]\n",
      "Confusion Matrix:  [[  0   0   0  77   2   0   0]\n",
      " [  0   0   0   4   0   0   0]\n",
      " [  0   0   1  72   1   0   0]\n",
      " [  3   0   1 111   2   1   0]\n",
      " [  1   0   2  84   0   0   0]\n",
      " [  3   0   3  80   1   0   0]\n",
      " [  0   0   0  50   1   0   0]]\n",
      "Accuracy :  22.400000000000002\n"
     ]
    }
   ],
   "source": [
    "y_pred_gini_global = prediction(x_test, clf_gini_global)\n",
    "dt_gini_accuracy_global = cal_accuracy(y_test, y_pred_gini_global)\n",
    "dt_gini_accuracy_global"
   ]
  },
  {
   "cell_type": "code",
   "execution_count": 53,
   "id": "e2b0173f",
   "metadata": {
    "scrolled": true
   },
   "outputs": [
    {
     "name": "stdout",
     "output_type": "stream",
     "text": [
      "Predicted values:\n",
      "[4 4 4 4 4 4 5 5 4 4 4 4 4 4 4 4 4 4 4 4 4 4 4 4 4 4 4 4 4 4 4 4 4 4 4 1 4\n",
      " 4 4 5 4 6 4 4 4 4 4 4 4 4 4 4 4 4 4 4 4 4 4 4 4 4 4 4 4 4 4 4 4 5 4 5 4 4\n",
      " 4 4 4 4 4 5 5 4 1 4 4 4 4 4 4 4 4 4 4 4 4 4 4 4 4 4 4 4 4 4 4 4 4 5 4 4 4\n",
      " 5 4 5 1 4 4 4 4 4 4 4 4 4 4 4 4 5 4 4 4 4 4 4 4 4 4 4 4 4 4 4 4 4 4 4 4 4\n",
      " 4 4 4 4 4 4 4 5 4 4 4 4 4 4 4 4 4 4 4 4 4 5 4 4 4 4 4 4 4 4 4 4 4 4 4 4 4\n",
      " 4 4 4 4 4 5 4 4 5 4 4 4 5 4 4 4 4 4 4 4 4 4 4 4 4 4 4 4 4 4 4 4 4 1 4 4 4\n",
      " 1 4 4 4 5 4 4 4 5 4 4 4 4 4 4 3 4 4 4 4 4 1 4 4 4 4 4 4 4 4 1 4 4 4 5 4 4\n",
      " 4 4 4 4 4 4 4 4 4 1 6 4 4 4 4 4 5 4 4 4 4 4 4 4 1 4 5 4 4 4 4 4 4 4 4 4 1\n",
      " 4 4 4 3 4 4 4 4 4 4 4 4 4 4 4 4 4 6 4 4 4 4 1 4 4 4 4 4 4 4 4 4 4 4 4 4 4\n",
      " 4 4 4 4 4 4 4 4 4 5 4 4 4 4 4 4 4 4 4 4 4 4 1 4 4 4 4 4 4 4 4 4 5 4 5 4 4\n",
      " 4 4 4 4 4 4 4 4 4 4 4 4 5 4 5 4 4 4 5 5 4 1 4 3 4 4 4 4 4 4 4 4 4 4 4 4 1\n",
      " 4 4 4 4 4 5 4 4 4 4 1 4 3 4 4 4 4 4 4 4 4 4 4 4 5 4 4 4 4 4 4 4 4 4 4 4 4\n",
      " 1 5 5 4 4 4 4 5 4 4 4 4 4 4 4 4 4 4 4 4 4 4 4 4 4 4 4 4 4 4 4 4 4 4 4 4 4\n",
      " 4 4 4 4 4 4 4 4 1 4 5 1 4 4 4 4 4 4 4]\n",
      "Confusion Matrix:  [[  5   0   0  66   8   0   0]\n",
      " [  0   0   0   3   1   0   0]\n",
      " [  2   0   1  66   5   0   0]\n",
      " [  3   0   0 106   8   1   0]\n",
      " [  3   0   3  77   4   0   0]\n",
      " [  2   0   0  82   2   1   0]\n",
      " [  3   0   0  41   6   1   0]]\n",
      "Accuracy :  23.400000000000002\n"
     ]
    }
   ],
   "source": [
    "y_pred_entropy_global = prediction(x_test, clf_entropy_global)\n",
    "dt_entropy_accuracy_global = cal_accuracy(y_test, y_pred_entropy_global)\n",
    "dt_entropy_accuracy_global"
   ]
  },
  {
   "cell_type": "markdown",
   "id": "deb56d75",
   "metadata": {},
   "source": [
    "## Random Forest:"
   ]
  },
  {
   "cell_type": "code",
   "execution_count": 48,
   "id": "ce565b9f",
   "metadata": {},
   "outputs": [
    {
     "name": "stdout",
     "output_type": "stream",
     "text": [
      "Accuracy: 0.2\n"
     ]
    }
   ],
   "source": [
    "from sklearn.ensemble import RandomForestClassifier\n",
    "from sklearn import metrics\n",
    "\n",
    "#Create a Gaussian Classifier\n",
    "clf = RandomForestClassifier(n_estimators=500)\n",
    "\n",
    "clf.fit(x_train, y_train)\n",
    "\n",
    "y_pred_rf = clf.predict(x_test)\n",
    "\n",
    "rf_accuracy = metrics.accuracy_score(y_test, y_pred_rf)\n",
    "print(\"Accuracy:\", rf_accuracy)"
   ]
  },
  {
   "cell_type": "markdown",
   "id": "7df83213",
   "metadata": {},
   "source": [
    "<div class = 'alert alert-block alert-info'>\n",
    "    <h3> Conclusion: </h3>\n",
    "    <p> For avoiding Higher Calculation time in My Laptop CPU, I have taken a small sample for train these ML Models. That's why We got a very low accuracy. If we can train it with the whole data, then the accuraries will improve. </p>\n",
    "</div>"
   ]
  }
 ],
 "metadata": {
  "kernelspec": {
   "display_name": "Python 3 (ipykernel)",
   "language": "python",
   "name": "python3"
  },
  "language_info": {
   "codemirror_mode": {
    "name": "ipython",
    "version": 3
   },
   "file_extension": ".py",
   "mimetype": "text/x-python",
   "name": "python",
   "nbconvert_exporter": "python",
   "pygments_lexer": "ipython3",
   "version": "3.10.5"
  }
 },
 "nbformat": 4,
 "nbformat_minor": 5
}
