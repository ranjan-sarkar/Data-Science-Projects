{
 "cells": [
  {
   "cell_type": "markdown",
   "id": "a6185b03",
   "metadata": {},
   "source": [
    "<h1 style = 'text-align: center'> Project: Facial Emotion Recognition </h1>\n",
    "<h3 style = 'text-align: center'> Self-Project by: RANJAN SARKAR (ROLL - 21MA40022) </h3>\n",
    "<h3 style = 'text-align: center'> 2-Year MSc Mathematics, IIT Kharagpur </h3>"
   ]
  },
  {
   "cell_type": "markdown",
   "id": "f7378e46",
   "metadata": {},
   "source": [
    "Importing necessary python libraries"
   ]
  },
  {
   "cell_type": "code",
   "execution_count": 12,
   "id": "9af5e1ec",
   "metadata": {},
   "outputs": [],
   "source": [
    "import cv2\n",
    "import os\n",
    "import numpy as np\n",
    "import pandas as pd\n",
    "import seaborn as sns\n",
    "import matplotlib.pyplot as plt\n",
    "import math"
   ]
  },
  {
   "cell_type": "markdown",
   "id": "486cf498",
   "metadata": {},
   "source": [
    "## Splitting image for a single image:"
   ]
  },
  {
   "cell_type": "code",
   "execution_count": 2,
   "id": "6f80d4af",
   "metadata": {},
   "outputs": [],
   "source": [
    "image = cv2.imread(\"Data/train/angry/Training_3908.jpg\")"
   ]
  },
  {
   "cell_type": "code",
   "execution_count": 21,
   "id": "77e01136",
   "metadata": {
    "scrolled": true
   },
   "outputs": [
    {
     "data": {
      "text/plain": [
       "array([[[8, 9, 7],\n",
       "        [7, 0, 6],\n",
       "        [1, 0, 8],\n",
       "        [4, 5, 5]],\n",
       "\n",
       "       [[3, 4, 6],\n",
       "        [7, 7, 8],\n",
       "        [8, 7, 7],\n",
       "        [4, 0, 2]],\n",
       "\n",
       "       [[8, 7, 9],\n",
       "        [8, 7, 9],\n",
       "        [8, 7, 5],\n",
       "        [9, 8, 6]],\n",
       "\n",
       "       [[8, 9, 6],\n",
       "        [1, 8, 1],\n",
       "        [0, 0, 4],\n",
       "        [1, 5, 7]]])"
      ]
     },
     "execution_count": 21,
     "metadata": {},
     "output_type": "execute_result"
    }
   ],
   "source": [
    "a = np.random.randint(0,10, (4,4,3))\n",
    "a"
   ]
  },
  {
   "cell_type": "code",
   "execution_count": 30,
   "id": "5d926d07",
   "metadata": {},
   "outputs": [
    {
     "data": {
      "text/plain": [
       "array([[[8, 3, 8, 8],\n",
       "        [7, 7, 8, 1],\n",
       "        [1, 8, 8, 0],\n",
       "        [4, 4, 9, 1]],\n",
       "\n",
       "       [[9, 4, 7, 9],\n",
       "        [0, 7, 7, 8],\n",
       "        [0, 7, 7, 0],\n",
       "        [5, 0, 8, 5]],\n",
       "\n",
       "       [[7, 6, 9, 6],\n",
       "        [6, 8, 9, 1],\n",
       "        [8, 7, 5, 4],\n",
       "        [5, 2, 6, 7]]])"
      ]
     },
     "execution_count": 30,
     "metadata": {},
     "output_type": "execute_result"
    }
   ],
   "source": [
    "a.T"
   ]
  },
  {
   "cell_type": "code",
   "execution_count": 3,
   "id": "19cfd9e8",
   "metadata": {},
   "outputs": [
    {
     "data": {
      "text/plain": [
       "<matplotlib.image.AxesImage at 0x24eb0a6d330>"
      ]
     },
     "execution_count": 3,
     "metadata": {},
     "output_type": "execute_result"
    },
    {
     "data": {
      "image/png": "[encoded data removed]",
      "text/plain": [
       "<Figure size 432x288 with 1 Axes>"
      ]
     },
     "metadata": {
      "needs_background": "light"
     },
     "output_type": "display_data"
    }
   ],
   "source": [
    "image_2d = cv2.cvtColor(image, cv2.COLOR_BGR2GRAY)\n",
    "plt.imshow(image_2d)"
   ]
  },
  {
   "cell_type": "markdown",
   "id": "169fe0da",
   "metadata": {},
   "source": [
    "## All the functions:"
   ]
  },
  {
   "cell_type": "markdown",
   "id": "ada00de5",
   "metadata": {},
   "source": [
    "## Making a dict of all the expressions:"
   ]
  },
  {
   "cell_type": "code",
   "execution_count": 4,
   "id": "2782712e",
   "metadata": {},
   "outputs": [],
   "source": [
    "train_exp_dict = {\"Angry\":[], \"Disgust\":[], \"Fear\":[], \"Happy\":[], \"Neutral\":[], \"Sad\":[], \"Surprise\":[]}\n",
    "train_paths = ['Data/train/angry', 'Data/train/disgust', 'Data/train/fear', 'Data/train/happy', 'Data/train/neutral', 'Data/train/sad', 'Data/train/surprise']\n",
    "for (i,j) in zip(train_exp_dict.keys(),train_paths):\n",
    "    train_exp_dict[i] = os.listdir(j)"
   ]
  },
  {
   "cell_type": "code",
   "execution_count": 5,
   "id": "a8f0b569",
   "metadata": {},
   "outputs": [],
   "source": [
    "test_exp_dict = {\"Angry\":[], \"Disgust\":[], \"Fear\":[], \"Happy\":[], \"Neutral\":[], \"Sad\":[], \"Surprise\":[]}\n",
    "test_paths = ['Data/test/angry', 'Data/test/disgust', 'Data/test/fear', 'Data/test/happy', 'Data/test/neutral', 'Data/test/sad', 'Data/test/surprise']\n",
    "for (i,j) in zip(test_exp_dict.keys(),test_paths):\n",
    "    test_exp_dict[i] = os.listdir(j)"
   ]
  },
  {
   "cell_type": "markdown",
   "id": "ac972aed",
   "metadata": {},
   "source": [
    "### Angry:"
   ]
  },
  {
   "cell_type": "code",
   "execution_count": 6,
   "id": "db6c873d",
   "metadata": {},
   "outputs": [],
   "source": [
    "train_full_list_angry = []\n",
    "for img in train_exp_dict[\"Angry\"]:\n",
    "    img_arr = cv2.imread(os.path.join(train_paths[0], img))\n",
    "#     img_arr = img_arr/255\n",
    "#     plt.figure()\n",
    "#     plt.imshow(img_arr)\n",
    "    train_full_list_angry.append(img_arr)"
   ]
  },
  {
   "cell_type": "code",
   "execution_count": 7,
   "id": "04e472e9",
   "metadata": {},
   "outputs": [],
   "source": [
    "test_full_list_angry = []\n",
    "for img in test_exp_dict[\"Angry\"]:\n",
    "    img_arr = cv2.imread(os.path.join(test_paths[0], img))\n",
    "#     img_arr = img_arr/255\n",
    "#     plt.figure()\n",
    "#     plt.imshow(img_arr)\n",
    "    test_full_list_angry.append(img_arr)"
   ]
  },
  {
   "cell_type": "markdown",
   "id": "3095d523",
   "metadata": {},
   "source": [
    "### Disgust:"
   ]
  },
  {
   "cell_type": "code",
   "execution_count": 31,
   "id": "c9574662",
   "metadata": {},
   "outputs": [],
   "source": [
    "train_full_list_disgust = []\n",
    "for img in train_exp_dict[\"Disgust\"]:\n",
    "    img_arr = cv2.imread(os.path.join(train_paths[1], img))\n",
    "#     img_arr = img_arr/255\n",
    "#     plt.figure()\n",
    "#     plt.imshow(img_arr)\n",
    "    train_full_list_disgust.append(img_arr)"
   ]
  },
  {
   "cell_type": "code",
   "execution_count": 32,
   "id": "d50b1250",
   "metadata": {},
   "outputs": [],
   "source": [
    "test_full_list_disgust = []\n",
    "for img in test_exp_dict[\"Disgust\"]:\n",
    "    img_arr = cv2.imread(os.path.join(test_paths[1], img))\n",
    "#     img_arr = img_arr/255\n",
    "#     plt.figure()\n",
    "#     plt.imshow(img_arr)\n",
    "    test_full_list_disgust.append(img_arr)"
   ]
  },
  {
   "cell_type": "markdown",
   "id": "d6506084",
   "metadata": {},
   "source": [
    "### Fear:"
   ]
  },
  {
   "cell_type": "code",
   "execution_count": 33,
   "id": "1069f75d",
   "metadata": {},
   "outputs": [],
   "source": [
    "train_full_list_fear = []\n",
    "for img in train_exp_dict[\"Fear\"]:\n",
    "    img_arr = cv2.imread(os.path.join(train_paths[2], img))\n",
    "#     img_arr = img_arr/255\n",
    "#     plt.figure()\n",
    "#     plt.imshow(img_arr)\n",
    "    train_full_list_fear.append(img_arr)"
   ]
  },
  {
   "cell_type": "code",
   "execution_count": 34,
   "id": "b1a873de",
   "metadata": {},
   "outputs": [],
   "source": [
    "test_full_list_fear = []\n",
    "for img in test_exp_dict[\"Fear\"]:\n",
    "    img_arr = cv2.imread(os.path.join(test_paths[2], img))\n",
    "#     img_arr = img_arr/255\n",
    "#     plt.figure()\n",
    "#     plt.imshow(img_arr)\n",
    "    test_full_list_fear.append(img_arr)"
   ]
  },
  {
   "cell_type": "markdown",
   "id": "16497c1b",
   "metadata": {},
   "source": [
    "### Happy:"
   ]
  },
  {
   "cell_type": "code",
   "execution_count": 35,
   "id": "eb561c7e",
   "metadata": {},
   "outputs": [],
   "source": [
    "train_full_list_happy = []\n",
    "for img in train_exp_dict[\"Happy\"]:\n",
    "    img_arr = cv2.imread(os.path.join(train_paths[3], img))\n",
    "#     img_arr = img_arr/255\n",
    "#     plt.figure()\n",
    "#     plt.imshow(img_arr)\n",
    "    train_full_list_happy.append(img_arr)"
   ]
  },
  {
   "cell_type": "code",
   "execution_count": 36,
   "id": "f656ff1a",
   "metadata": {},
   "outputs": [],
   "source": [
    "test_full_list_happy = []\n",
    "for img in test_exp_dict[\"Happy\"]:\n",
    "    img_arr = cv2.imread(os.path.join(test_paths[3], img))\n",
    "#     img_arr = img_arr/255\n",
    "#     plt.figure()\n",
    "#     plt.imshow(img_arr)\n",
    "    test_full_list_happy.append(img_arr)"
   ]
  },
  {
   "cell_type": "markdown",
   "id": "059ff54e",
   "metadata": {},
   "source": [
    "### Neutral:"
   ]
  },
  {
   "cell_type": "code",
   "execution_count": 37,
   "id": "d97a4580",
   "metadata": {},
   "outputs": [],
   "source": [
    "train_full_list_neutral = []\n",
    "for img in train_exp_dict[\"Neutral\"]:\n",
    "    img_arr = cv2.imread(os.path.join(train_paths[4], img))\n",
    "#     img_arr = img_arr/255\n",
    "#     plt.figure()\n",
    "#     plt.imshow(img_arr)\n",
    "    train_full_list_neutral.append(img_arr)"
   ]
  },
  {
   "cell_type": "code",
   "execution_count": 38,
   "id": "b4f59ed7",
   "metadata": {},
   "outputs": [],
   "source": [
    "test_full_list_neutral = []\n",
    "for img in test_exp_dict[\"Neutral\"]:\n",
    "    img_arr = cv2.imread(os.path.join(test_paths[4], img))\n",
    "#     img_arr = img_arr/255\n",
    "#     plt.figure()\n",
    "#     plt.imshow(img_arr)\n",
    "    test_full_list_neutral.append(img_arr)"
   ]
  },
  {
   "cell_type": "markdown",
   "id": "0736e242",
   "metadata": {},
   "source": [
    "### Sad:"
   ]
  },
  {
   "cell_type": "code",
   "execution_count": 39,
   "id": "77f47d69",
   "metadata": {},
   "outputs": [],
   "source": [
    "train_full_list_sad = []\n",
    "for img in train_exp_dict[\"Sad\"]:\n",
    "    img_arr = cv2.imread(os.path.join(train_paths[5], img))\n",
    "#     img_arr = img_arr/255\n",
    "#     plt.figure()\n",
    "#     plt.imshow(img_arr)\n",
    "    train_full_list_sad.append(img_arr)"
   ]
  },
  {
   "cell_type": "code",
   "execution_count": 40,
   "id": "72ea17e4",
   "metadata": {},
   "outputs": [],
   "source": [
    "test_full_list_sad = []\n",
    "for img in test_exp_dict[\"Sad\"]:\n",
    "    img_arr = cv2.imread(os.path.join(test_paths[5], img))\n",
    "#     img_arr = img_arr/255\n",
    "#     plt.figure()\n",
    "#     plt.imshow(img_arr)\n",
    "    test_full_list_sad.append(img_arr)"
   ]
  },
  {
   "cell_type": "markdown",
   "id": "3335702d",
   "metadata": {},
   "source": [
    "### Surprise:"
   ]
  },
  {
   "cell_type": "code",
   "execution_count": 41,
   "id": "2425cf1b",
   "metadata": {},
   "outputs": [],
   "source": [
    "train_full_list_surprise = []\n",
    "for img in train_exp_dict[\"Surprise\"]:\n",
    "    img_arr = cv2.imread(os.path.join(train_paths[6], img))\n",
    "#     img_arr = img_arr/255\n",
    "#     plt.figure()\n",
    "#     plt.imshow(img_arr)\n",
    "    train_full_list_surprise.append(img_arr)"
   ]
  },
  {
   "cell_type": "code",
   "execution_count": 42,
   "id": "ad56031a",
   "metadata": {},
   "outputs": [],
   "source": [
    "test_full_list_surprise = []\n",
    "for img in test_exp_dict[\"Surprise\"]:\n",
    "    img_arr = cv2.imread(os.path.join(test_paths[6], img))\n",
    "#     img_arr = img_arr/255\n",
    "#     plt.figure()\n",
    "#     plt.imshow(img_arr)\n",
    "    test_full_list_surprise.append(img_arr)"
   ]
  },
  {
   "cell_type": "markdown",
   "id": "07e473d6",
   "metadata": {},
   "source": [
    "## Appending all the expressions in a single list for train and test:"
   ]
  },
  {
   "cell_type": "code",
   "execution_count": 21,
   "id": "d2f2f3ae",
   "metadata": {},
   "outputs": [],
   "source": [
    "l1 = [train_full_list_angry,train_full_list_disgust,train_full_list_fear,train_full_list_happy,\n",
    "      train_full_list_neutral,train_full_list_sad,train_full_list_surprise]\n",
    "\n",
    "l2 = [test_full_list_angry,test_full_list_disgust,test_full_list_fear,test_full_list_happy,\n",
    "      test_full_list_neutral,test_full_list_sad,test_full_list_surprise]"
   ]
  },
  {
   "cell_type": "code",
   "execution_count": 1,
   "id": "a6ecaea1",
   "metadata": {},
   "outputs": [
    {
     "ename": "NameError",
     "evalue": "name 'l1' is not defined",
     "output_type": "error",
     "traceback": [
      "\u001b[1;31m---------------------------------------------------------------------------\u001b[0m",
      "\u001b[1;31mNameError\u001b[0m                                 Traceback (most recent call last)",
      "Input \u001b[1;32mIn [1]\u001b[0m, in \u001b[0;36m<cell line: 1>\u001b[1;34m()\u001b[0m\n\u001b[1;32m----> 1\u001b[0m \u001b[43ml1\u001b[49m[\u001b[38;5;241m1\u001b[39m]\n",
      "\u001b[1;31mNameError\u001b[0m: name 'l1' is not defined"
     ]
    }
   ],
   "source": [
    "l1[1]"
   ]
  },
  {
   "cell_type": "code",
   "execution_count": 22,
   "id": "83a331f7",
   "metadata": {},
   "outputs": [],
   "source": [
    "lis = []\n",
    "for i in l1:\n",
    "    lis.extend(i)\n",
    "\n",
    "lis1 = []\n",
    "for i in l2:\n",
    "    lis1.extend(i)"
   ]
  },
  {
   "cell_type": "code",
   "execution_count": 33,
   "id": "39f889e2",
   "metadata": {},
   "outputs": [
    {
     "data": {
      "text/plain": [
       "(48, 48, 3)"
      ]
     },
     "execution_count": 33,
     "metadata": {},
     "output_type": "execute_result"
    }
   ],
   "source": [
    "lis[1].shape"
   ]
  },
  {
   "cell_type": "code",
   "execution_count": 23,
   "id": "aed3ad3f",
   "metadata": {},
   "outputs": [],
   "source": [
    "train_list = lis\n",
    "\n",
    "test_list = lis1"
   ]
  },
  {
   "cell_type": "code",
   "execution_count": 24,
   "id": "20ea230f",
   "metadata": {},
   "outputs": [],
   "source": [
    "train_list_upd = np.array([i.flatten() for i in train_list])\n",
    "test_list_upd = [i.flatten() for i in test_list]"
   ]
  },
  {
   "cell_type": "code",
   "execution_count": 25,
   "id": "d8fa1f31",
   "metadata": {},
   "outputs": [
    {
     "data": {
      "text/plain": [
       "(6912,)"
      ]
     },
     "execution_count": 25,
     "metadata": {},
     "output_type": "execute_result"
    }
   ],
   "source": [
    "train_list_upd[0].shape"
   ]
  },
  {
   "cell_type": "markdown",
   "id": "fe552708",
   "metadata": {},
   "source": [
    "-----------"
   ]
  },
  {
   "cell_type": "markdown",
   "id": "430eb64c",
   "metadata": {},
   "source": [
    "# Applying ML Classification Models:"
   ]
  },
  {
   "cell_type": "code",
   "execution_count": 41,
   "id": "fb58681c",
   "metadata": {},
   "outputs": [],
   "source": [
    "# Image Gradient calculation (train data)\n",
    "IG_train = [IG(i) for i in train_list_upd]"
   ]
  },
  {
   "cell_type": "code",
   "execution_count": 42,
   "id": "8a5ffadf",
   "metadata": {},
   "outputs": [],
   "source": [
    "# Image Gradient calculation (test data)\n",
    "IG_test = [IG(i) for i in test_list_upd]"
   ]
  },
  {
   "cell_type": "code",
   "execution_count": 43,
   "id": "0541ee77",
   "metadata": {
    "scrolled": true
   },
   "outputs": [
    {
     "name": "stderr",
     "output_type": "stream",
     "text": [
      "C:\\Users\\hp\\AppData\\Local\\Temp\\ipykernel_17240\\3412587546.py:6: RuntimeWarning: divide by zero encountered in divide\n",
      "  slope = sobelY/sobelX\n",
      "C:\\Users\\hp\\AppData\\Local\\Temp\\ipykernel_17240\\3412587546.py:6: RuntimeWarning: invalid value encountered in divide\n",
      "  slope = sobelY/sobelX\n"
     ]
    }
   ],
   "source": [
    "# calculating theta (train)\n",
    "theta_train=[theta(i) for i in train_list_upd]\n",
    "final_theta_train = final_theta(theta_train)"
   ]
  },
  {
   "cell_type": "code",
   "execution_count": 44,
   "id": "3669e25d",
   "metadata": {},
   "outputs": [
    {
     "name": "stderr",
     "output_type": "stream",
     "text": [
      "C:\\Users\\hp\\AppData\\Local\\Temp\\ipykernel_17240\\3412587546.py:6: RuntimeWarning: divide by zero encountered in divide\n",
      "  slope = sobelY/sobelX\n",
      "C:\\Users\\hp\\AppData\\Local\\Temp\\ipykernel_17240\\3412587546.py:6: RuntimeWarning: invalid value encountered in divide\n",
      "  slope = sobelY/sobelX\n"
     ]
    }
   ],
   "source": [
    "# calculating theta (test)\n",
    "theta_test=[theta(i) for i in test_list_upd]\n",
    "final_theta_test = final_theta(theta_test)"
   ]
  },
  {
   "cell_type": "code",
   "execution_count": 45,
   "id": "34ab9dd1",
   "metadata": {},
   "outputs": [],
   "source": [
    "# Histogram Calculation\n",
    "hist_train = [histograms(item1,item2) for (item1, item2) in zip(IG_train, final_theta_train)]"
   ]
  },
  {
   "cell_type": "code",
   "execution_count": 46,
   "id": "6b9456be",
   "metadata": {},
   "outputs": [],
   "source": [
    "# Histogram Calculation\n",
    "hist_test = [histograms(item1,item2) for (item1, item2) in zip(IG_test, final_theta_test)]"
   ]
  },
  {
   "cell_type": "code",
   "execution_count": 59,
   "id": "4c686150",
   "metadata": {},
   "outputs": [],
   "source": [
    "label = 1\n",
    "y_train = []\n",
    "for i in l1:\n",
    "    y_train.extend(np.repeat(label , len(i)))\n",
    "    label += 1\n",
    "\n",
    "label1 = 1\n",
    "y_test = []\n",
    "for i in l2:\n",
    "    y_test.extend(np.repeat(label1 , len(i)))\n",
    "    label1 += 1"
   ]
  },
  {
   "cell_type": "code",
   "execution_count": 60,
   "id": "93ef8b8d",
   "metadata": {},
   "outputs": [
    {
     "ename": "NameError",
     "evalue": "name 'hist_train' is not defined",
     "output_type": "error",
     "traceback": [
      "\u001b[1;31m---------------------------------------------------------------------------\u001b[0m",
      "\u001b[1;31mNameError\u001b[0m                                 Traceback (most recent call last)",
      "Input \u001b[1;32mIn [60]\u001b[0m, in \u001b[0;36m<cell line: 1>\u001b[1;34m()\u001b[0m\n\u001b[1;32m----> 1\u001b[0m X_train_global \u001b[38;5;241m=\u001b[39m \u001b[43mhist_train\u001b[49m\n\u001b[0;32m      2\u001b[0m Y_train \u001b[38;5;241m=\u001b[39m y_train\n\u001b[0;32m      3\u001b[0m X_test_global \u001b[38;5;241m=\u001b[39m hist_test\n",
      "\u001b[1;31mNameError\u001b[0m: name 'hist_train' is not defined"
     ]
    }
   ],
   "source": [
    "X_train_global = hist_train\n",
    "Y_train = y_train\n",
    "X_test_global = hist_test\n",
    "Y_test = y_test"
   ]
  },
  {
   "cell_type": "code",
   "execution_count": 49,
   "id": "a5c985be",
   "metadata": {},
   "outputs": [],
   "source": [
    "hist_train1 = np.array(hist_train)\n",
    "hist_train_norm = hist_train1/(hist_train1.sum())\n",
    "hist_train_norm = np.absolute(hist_train_norm)"
   ]
  },
  {
   "cell_type": "code",
   "execution_count": 50,
   "id": "181d18f0",
   "metadata": {},
   "outputs": [],
   "source": [
    "hist_test1 = np.array(hist_test)\n",
    "hist_test_norm = hist_test1/(hist_test1.sum())\n",
    "hist_test_norm = np.absolute(hist_test_norm)"
   ]
  },
  {
   "cell_type": "code",
   "execution_count": 51,
   "id": "1a01c0ae",
   "metadata": {},
   "outputs": [],
   "source": [
    "X_train_global_norm = hist_train_norm\n",
    "X_test_global_norm = hist_test_norm"
   ]
  },
  {
   "cell_type": "code",
   "execution_count": 52,
   "id": "647ed638",
   "metadata": {},
   "outputs": [
    {
     "data": {
      "image/png": "[encoded data removed]",
      "text/plain": [
       "<Figure size 432x288 with 1 Axes>"
      ]
     },
     "metadata": {
      "needs_background": "light"
     },
     "output_type": "display_data"
    },
    {
     "data": {
      "image/png": "[encoded data removed]",
      "text/plain": [
       "<Figure size 432x288 with 1 Axes>"
      ]
     },
     "metadata": {
      "needs_background": "light"
     },
     "output_type": "display_data"
    }
   ],
   "source": [
    "for i in hist_train_norm[0:2]:\n",
    "    plotting(i)"
   ]
  },
  {
   "cell_type": "markdown",
   "id": "3563fbc4",
   "metadata": {},
   "source": [
    "## KNN:"
   ]
  },
  {
   "cell_type": "markdown",
   "id": "fa5e2fb9",
   "metadata": {},
   "source": [
    "### For simple histogram:"
   ]
  },
  {
   "cell_type": "code",
   "execution_count": 56,
   "id": "61ad47f5",
   "metadata": {},
   "outputs": [],
   "source": [
    "from sklearn.neighbors import KNeighborsClassifier"
   ]
  },
  {
   "cell_type": "code",
   "execution_count": 57,
   "id": "84430c24",
   "metadata": {},
   "outputs": [],
   "source": [
    "k =[KNeighborsClassifier(n_neighbors=i+1) for i in range(25)]"
   ]
  },
  {
   "cell_type": "code",
   "execution_count": 61,
   "id": "78c57311",
   "metadata": {},
   "outputs": [],
   "source": [
    "f_global = [i.fit(train_list_upd, y_train) for i in k]"
   ]
  },
  {
   "cell_type": "code",
   "execution_count": null,
   "id": "b7eb40eb",
   "metadata": {},
   "outputs": [],
   "source": [
    "s_global_train = [i.score(train_list_upd,y_train) for i in f_global]"
   ]
  },
  {
   "cell_type": "code",
   "execution_count": null,
   "id": "259a3df8",
   "metadata": {},
   "outputs": [],
   "source": [
    "df_global_train = pd.DataFrame(s_global_train)\n",
    "print(df_global_train)\n",
    "plt.plot(df_global_train)\n",
    "plt.show()"
   ]
  },
  {
   "cell_type": "code",
   "execution_count": 275,
   "id": "a4310c44",
   "metadata": {},
   "outputs": [],
   "source": [
    "knn_accuracy_global_train = s_global_train[1]\n",
    "### train_accuracy"
   ]
  },
  {
   "cell_type": "code",
   "execution_count": 52,
   "id": "d3b27493",
   "metadata": {},
   "outputs": [],
   "source": [
    "s_global = [i.score(X_test_global,Y_test) for i in f_global]"
   ]
  },
  {
   "cell_type": "code",
   "execution_count": 53,
   "id": "26c6bb64",
   "metadata": {},
   "outputs": [
    {
     "name": "stdout",
     "output_type": "stream",
     "text": [
      "           0\n",
      "0   0.301337\n",
      "1   0.259125\n",
      "2   0.250348\n",
      "3   0.257314\n",
      "4   0.266927\n",
      "5   0.267623\n",
      "6   0.264558\n",
      "7   0.263165\n",
      "8   0.264001\n",
      "9   0.258568\n",
      "10  0.264837\n",
      "11  0.260379\n",
      "12  0.263583\n",
      "13  0.264419\n",
      "14  0.264976\n",
      "15  0.266369\n",
      "16  0.265673\n",
      "17  0.263862\n",
      "18  0.262469\n",
      "19  0.261633\n",
      "20  0.258707\n",
      "21  0.256060\n",
      "22  0.253831\n",
      "23  0.252717\n",
      "24  0.256339\n"
     ]
    },
    {
     "data": {
      "image/png": "[encoded data removed]",
      "text/plain": [
       "<Figure size 432x288 with 1 Axes>"
      ]
     },
     "metadata": {
      "needs_background": "light"
     },
     "output_type": "display_data"
    }
   ],
   "source": [
    "df_global = pd.DataFrame(s_global)\n",
    "print(df_global)\n",
    "plt.plot(df_global)\n",
    "plt.show()"
   ]
  },
  {
   "cell_type": "code",
   "execution_count": 54,
   "id": "999ed360",
   "metadata": {},
   "outputs": [],
   "source": [
    "knn_accuracy_global = s_global[1]"
   ]
  },
  {
   "cell_type": "code",
   "execution_count": 55,
   "id": "947e56d2",
   "metadata": {},
   "outputs": [
    {
     "data": {
      "text/plain": [
       "array([4, 4, 6, ..., 6, 7, 4])"
      ]
     },
     "execution_count": 55,
     "metadata": {},
     "output_type": "execute_result"
    }
   ],
   "source": [
    "y_pred_global = f_global[0].predict(X_test_global)\n",
    "y_pred_global"
   ]
  },
  {
   "cell_type": "code",
   "execution_count": 56,
   "id": "797f4dce",
   "metadata": {},
   "outputs": [],
   "source": [
    "from sklearn.metrics import confusion_matrix"
   ]
  },
  {
   "cell_type": "code",
   "execution_count": 57,
   "id": "2e29b7f8",
   "metadata": {},
   "outputs": [
    {
     "name": "stdout",
     "output_type": "stream",
     "text": [
      "[[258  14 123 255 178 149  66]\n",
      " [  5  42  15  16  14  10   9]\n",
      " [117  10 322 231 155 179  87]\n",
      " [208  15 202 550 323 293 120]\n",
      " [135  13 142 294 278 197  89]\n",
      " [150  12 142 265 188 324  71]\n",
      " [ 85   5  78 163  97  95 389]]\n"
     ]
    }
   ],
   "source": [
    "print(confusion_matrix(y_pred_global, Y_test))"
   ]
  },
  {
   "cell_type": "markdown",
   "id": "364690d0",
   "metadata": {},
   "source": [
    "## SVM:"
   ]
  },
  {
   "cell_type": "markdown",
   "id": "0e3f0796",
   "metadata": {},
   "source": [
    "### For simple histogram:"
   ]
  },
  {
   "cell_type": "code",
   "execution_count": 65,
   "id": "475eb3f2",
   "metadata": {},
   "outputs": [],
   "source": [
    "from sklearn.svm import SVC"
   ]
  },
  {
   "cell_type": "markdown",
   "id": "66fdb364",
   "metadata": {},
   "source": [
    "### Sigmoid kernel:"
   ]
  },
  {
   "cell_type": "code",
   "execution_count": 287,
   "id": "7e43e6c4",
   "metadata": {},
   "outputs": [
    {
     "data": {
      "text/plain": [
       "SVC(kernel='sigmoid', random_state=0)"
      ]
     },
     "execution_count": 287,
     "metadata": {},
     "output_type": "execute_result"
    }
   ],
   "source": [
    "classifier_sigmoid_global = SVC(kernel='sigmoid', random_state = 0)\n",
    "classifier_sigmoid_global.fit(X_train_global,Y_train)"
   ]
  },
  {
   "cell_type": "code",
   "execution_count": 288,
   "id": "4a2f3393",
   "metadata": {},
   "outputs": [],
   "source": [
    "sigmoid_pred_global_train = classifier_sigmoid_global.predict(X_train_global)"
   ]
  },
  {
   "cell_type": "code",
   "execution_count": 289,
   "id": "39f01690",
   "metadata": {},
   "outputs": [
    {
     "name": "stdout",
     "output_type": "stream",
     "text": [
      "\n",
      "Accuracy Of SVM with sigmoid kernel for train data :  0.18826848723396844\n"
     ]
    }
   ],
   "source": [
    "cm1_global_train = confusion_matrix(Y_train,sigmoid_pred_global_train)\n",
    "accuracy_sigmoid_global_train = float(cm1_global_train.diagonal().sum())/len(Y_train)\n",
    "print(\"\\nAccuracy Of SVM with sigmoid kernel for train data : \", accuracy_sigmoid_global_train)"
   ]
  },
  {
   "cell_type": "code",
   "execution_count": 285,
   "id": "f7c411aa",
   "metadata": {},
   "outputs": [],
   "source": [
    "sigmoid_pred_global = classifier_sigmoid_global.predict(X_test_global)"
   ]
  },
  {
   "cell_type": "code",
   "execution_count": 286,
   "id": "185a73cb",
   "metadata": {},
   "outputs": [
    {
     "name": "stdout",
     "output_type": "stream",
     "text": [
      "\n",
      "Accuracy Of SVM with sigmoid kernel :  0.1918361660629702\n"
     ]
    }
   ],
   "source": [
    "cm1_global = confusion_matrix(Y_test,sigmoid_pred_global)\n",
    "accuracy_sigmoid_global = float(cm1_global.diagonal().sum())/len(Y_test)\n",
    "print(\"\\nAccuracy Of SVM with sigmoid kernel : \", accuracy_sigmoid_global)"
   ]
  },
  {
   "cell_type": "markdown",
   "id": "c7a2b1e3",
   "metadata": {},
   "source": [
    "### Polynomial kernel (with degree 1) :"
   ]
  },
  {
   "cell_type": "code",
   "execution_count": 69,
   "id": "cb16b27c",
   "metadata": {},
   "outputs": [
    {
     "data": {
      "text/plain": [
       "SVC(degree=1, kernel='poly', random_state=0)"
      ]
     },
     "execution_count": 69,
     "metadata": {},
     "output_type": "execute_result"
    }
   ],
   "source": [
    "classifier_pol_1_global = SVC(kernel='poly', degree = 1, random_state = 0)\n",
    "classifier_pol_1_global.fit(X_train_global,Y_train)"
   ]
  },
  {
   "cell_type": "code",
   "execution_count": 290,
   "id": "576fafb1",
   "metadata": {},
   "outputs": [],
   "source": [
    "pol_1_pred_global_train = classifier_pol_1_global.predict(X_train_global)"
   ]
  },
  {
   "cell_type": "code",
   "execution_count": 294,
   "id": "ea6a44f1",
   "metadata": {},
   "outputs": [
    {
     "name": "stdout",
     "output_type": "stream",
     "text": [
      "\n",
      "Accuracy Of SVM with polynomial kernel having deg 1 for train data :  0.2513149186666202\n"
     ]
    }
   ],
   "source": [
    "cm2_global_train = confusion_matrix(Y_train,pol_1_pred_global_train)\n",
    "accuracy_pol_1_global_train = float(cm2_global_train.diagonal().sum())/len(Y_train)\n",
    "print(\"\\nAccuracy Of SVM with polynomial kernel having deg 1 for train data : \", accuracy_pol_1_global_train)"
   ]
  },
  {
   "cell_type": "code",
   "execution_count": 70,
   "id": "32d1abb2",
   "metadata": {},
   "outputs": [],
   "source": [
    "pol_1_pred_global = classifier_pol_1_global.predict(X_test_global)"
   ]
  },
  {
   "cell_type": "code",
   "execution_count": 71,
   "id": "6818bf45",
   "metadata": {},
   "outputs": [
    {
     "name": "stdout",
     "output_type": "stream",
     "text": [
      "\n",
      "Accuracy Of SVM with polynomial kernel having deg 1 :  0.24714405126776262\n"
     ]
    }
   ],
   "source": [
    "cm2_global = confusion_matrix(Y_test,pol_1_pred_global)\n",
    "accuracy_pol_1_global = float(cm2_global.diagonal().sum())/len(Y_test)\n",
    "print(\"\\nAccuracy Of SVM with polynomial kernel having deg 1 : \", accuracy_pol_1_global)"
   ]
  },
  {
   "cell_type": "markdown",
   "id": "bdda92d9",
   "metadata": {},
   "source": [
    "### Polynomial kernel (with degree 3):"
   ]
  },
  {
   "cell_type": "code",
   "execution_count": 72,
   "id": "72afa145",
   "metadata": {},
   "outputs": [
    {
     "data": {
      "text/plain": [
       "SVC(kernel='poly', random_state=0)"
      ]
     },
     "execution_count": 72,
     "metadata": {},
     "output_type": "execute_result"
    }
   ],
   "source": [
    "classifier_pol_3_global = SVC(kernel='poly', degree = 3, random_state = 0)\n",
    "classifier_pol_3_global.fit(X_train_global,Y_train)"
   ]
  },
  {
   "cell_type": "code",
   "execution_count": 295,
   "id": "0137a6ea",
   "metadata": {},
   "outputs": [],
   "source": [
    "pol_3_pred_global_train = classifier_pol_3_global.predict(X_train_global)"
   ]
  },
  {
   "cell_type": "code",
   "execution_count": 297,
   "id": "d825b9ce",
   "metadata": {},
   "outputs": [
    {
     "name": "stdout",
     "output_type": "stream",
     "text": [
      "\n",
      "Accuracy Of SVM with polynomial kernel having deg 3 for train data :  0.25754989724476646\n"
     ]
    }
   ],
   "source": [
    "cm3_global_train = confusion_matrix(Y_train,pol_3_pred_global_train)\n",
    "accuracy_pol_3_global_train = float(cm3_global_train.diagonal().sum())/len(Y_train)\n",
    "print(\"\\nAccuracy Of SVM with polynomial kernel having deg 3 for train data : \", accuracy_pol_3_global_train)"
   ]
  },
  {
   "cell_type": "code",
   "execution_count": 298,
   "id": "b67f079f",
   "metadata": {},
   "outputs": [],
   "source": [
    "pol_3_pred_global = classifier_pol_3_global.predict(X_test_global)"
   ]
  },
  {
   "cell_type": "code",
   "execution_count": 299,
   "id": "b9614224",
   "metadata": {},
   "outputs": [
    {
     "name": "stdout",
     "output_type": "stream",
     "text": [
      "\n",
      "Accuracy Of SVM with polynomial kernel having deg 3 :  0.2539704653106715\n"
     ]
    }
   ],
   "source": [
    "cm3_global = confusion_matrix(Y_test,pol_3_pred_global)\n",
    "accuracy_pol_3_global = float(cm3_global.diagonal().sum())/len(Y_test)\n",
    "print(\"\\nAccuracy Of SVM with polynomial kernel having deg 3 : \", accuracy_pol_3_global)"
   ]
  },
  {
   "cell_type": "markdown",
   "id": "a06156ce",
   "metadata": {},
   "source": [
    "### Linear kernel:"
   ]
  },
  {
   "cell_type": "code",
   "execution_count": 75,
   "id": "b285e177",
   "metadata": {},
   "outputs": [],
   "source": [
    "# classifier_linear = SVC(kernel='linear', random_state = 0)\n",
    "# classifier_linear.fit(X_train,Y_train)"
   ]
  },
  {
   "cell_type": "markdown",
   "id": "a2072724",
   "metadata": {},
   "source": [
    "### RBF kernel:"
   ]
  },
  {
   "cell_type": "code",
   "execution_count": 76,
   "id": "e7f9d653",
   "metadata": {},
   "outputs": [
    {
     "data": {
      "text/plain": [
       "SVC(random_state=0)"
      ]
     },
     "execution_count": 76,
     "metadata": {},
     "output_type": "execute_result"
    }
   ],
   "source": [
    "classifier_rbf_global = SVC(kernel='rbf', random_state = 0)\n",
    "classifier_rbf_global.fit(X_train_global,Y_train)"
   ]
  },
  {
   "cell_type": "code",
   "execution_count": 300,
   "id": "a036c341",
   "metadata": {},
   "outputs": [],
   "source": [
    "rbf_pred_global_train = classifier_rbf_global.predict(X_train_global)"
   ]
  },
  {
   "cell_type": "code",
   "execution_count": 304,
   "id": "3ca7e266",
   "metadata": {},
   "outputs": [
    {
     "name": "stdout",
     "output_type": "stream",
     "text": [
      "\n",
      "Accuracy Of SVM with rbf kernel for train data :  0.26016231843672716\n"
     ]
    }
   ],
   "source": [
    "cm4_global_train = confusion_matrix(Y_train,rbf_pred_global_train)\n",
    "accuracy_rbf_global_train = float(cm4_global_train.diagonal().sum())/len(Y_train)\n",
    "print(\"\\nAccuracy Of SVM with rbf kernel for train data : \", accuracy_rbf_global_train)"
   ]
  },
  {
   "cell_type": "code",
   "execution_count": 305,
   "id": "79c4da00",
   "metadata": {},
   "outputs": [],
   "source": [
    "rbf_pred_global = classifier_rbf_global.predict(X_test_global)"
   ]
  },
  {
   "cell_type": "code",
   "execution_count": 306,
   "id": "e609f88f",
   "metadata": {},
   "outputs": [
    {
     "name": "stdout",
     "output_type": "stream",
     "text": [
      "\n",
      "Accuracy Of SVM with rbf kernel :  0.2559208693229312\n"
     ]
    }
   ],
   "source": [
    "cm4_global = confusion_matrix(Y_test,rbf_pred_global)\n",
    "accuracy_rbf_global = float(cm4_global.diagonal().sum())/len(Y_test)\n",
    "print(\"\\nAccuracy Of SVM with rbf kernel : \", accuracy_rbf_global)"
   ]
  },
  {
   "cell_type": "code",
   "execution_count": 415,
   "id": "fab5c2f8",
   "metadata": {},
   "outputs": [
    {
     "data": {
      "text/html": [
       "<div>\n",
       "<style scoped>\n",
       "    .dataframe tbody tr th:only-of-type {\n",
       "        vertical-align: middle;\n",
       "    }\n",
       "\n",
       "    .dataframe tbody tr th {\n",
       "        vertical-align: top;\n",
       "    }\n",
       "\n",
       "    .dataframe thead th {\n",
       "        text-align: right;\n",
       "    }\n",
       "</style>\n",
       "<table border=\"1\" class=\"dataframe\">\n",
       "  <thead>\n",
       "    <tr style=\"text-align: right;\">\n",
       "      <th></th>\n",
       "      <th>Accuracy</th>\n",
       "    </tr>\n",
       "  </thead>\n",
       "  <tbody>\n",
       "    <tr>\n",
       "      <th>sigmoid</th>\n",
       "      <td>0.188268</td>\n",
       "    </tr>\n",
       "    <tr>\n",
       "      <th>pol_1</th>\n",
       "      <td>0.251315</td>\n",
       "    </tr>\n",
       "    <tr>\n",
       "      <th>pol_3</th>\n",
       "      <td>0.257550</td>\n",
       "    </tr>\n",
       "    <tr>\n",
       "      <th>rbf</th>\n",
       "      <td>0.260162</td>\n",
       "    </tr>\n",
       "  </tbody>\n",
       "</table>\n",
       "</div>"
      ],
      "text/plain": [
       "         Accuracy\n",
       "sigmoid  0.188268\n",
       "pol_1    0.251315\n",
       "pol_3    0.257550\n",
       "rbf      0.260162"
      ]
     },
     "execution_count": 415,
     "metadata": {},
     "output_type": "execute_result"
    }
   ],
   "source": [
    "df_svm_global_train = pd.DataFrame([accuracy_sigmoid_global_train, accuracy_pol_1_global_train, accuracy_pol_3_global_train, accuracy_rbf_global_train],\n",
    "                      columns = [\"Accuracy\"], index = [\"sigmoid\", \"pol_1\", \"pol_3\", \"rbf\"])\n",
    "df_svm_global_train"
   ]
  },
  {
   "cell_type": "code",
   "execution_count": 79,
   "id": "c37f77ec",
   "metadata": {},
   "outputs": [
    {
     "data": {
      "text/html": [
       "<div>\n",
       "<style scoped>\n",
       "    .dataframe tbody tr th:only-of-type {\n",
       "        vertical-align: middle;\n",
       "    }\n",
       "\n",
       "    .dataframe tbody tr th {\n",
       "        vertical-align: top;\n",
       "    }\n",
       "\n",
       "    .dataframe thead th {\n",
       "        text-align: right;\n",
       "    }\n",
       "</style>\n",
       "<table border=\"1\" class=\"dataframe\">\n",
       "  <thead>\n",
       "    <tr style=\"text-align: right;\">\n",
       "      <th></th>\n",
       "      <th>Accuracy</th>\n",
       "    </tr>\n",
       "  </thead>\n",
       "  <tbody>\n",
       "    <tr>\n",
       "      <th>sigmoid</th>\n",
       "      <td>0.191836</td>\n",
       "    </tr>\n",
       "    <tr>\n",
       "      <th>pol_1</th>\n",
       "      <td>0.247144</td>\n",
       "    </tr>\n",
       "    <tr>\n",
       "      <th>pol_3</th>\n",
       "      <td>0.253970</td>\n",
       "    </tr>\n",
       "    <tr>\n",
       "      <th>rbf</th>\n",
       "      <td>0.255921</td>\n",
       "    </tr>\n",
       "  </tbody>\n",
       "</table>\n",
       "</div>"
      ],
      "text/plain": [
       "         Accuracy\n",
       "sigmoid  0.191836\n",
       "pol_1    0.247144\n",
       "pol_3    0.253970\n",
       "rbf      0.255921"
      ]
     },
     "execution_count": 79,
     "metadata": {},
     "output_type": "execute_result"
    }
   ],
   "source": [
    "df_svm_global = pd.DataFrame([accuracy_sigmoid_global, accuracy_pol_1_global, accuracy_pol_3_global, accuracy_rbf_global],\n",
    "                      columns = [\"Accuracy\"], index = [\"sigmoid\", \"pol_1\", \"pol_3\", \"rbf\"])\n",
    "df_svm_global"
   ]
  },
  {
   "cell_type": "code",
   "execution_count": 80,
   "id": "9028517e",
   "metadata": {},
   "outputs": [
    {
     "data": {
      "text/plain": [
       "[<matplotlib.lines.Line2D at 0x7f462f9bf1c0>]"
      ]
     },
     "execution_count": 80,
     "metadata": {},
     "output_type": "execute_result"
    },
    {
     "data": {
      "image/png": "[encoded data removed]",
      "text/plain": [
       "<Figure size 432x288 with 1 Axes>"
      ]
     },
     "metadata": {
      "needs_background": "light"
     },
     "output_type": "display_data"
    }
   ],
   "source": [
    "plt.plot(df_svm_global)"
   ]
  },
  {
   "cell_type": "markdown",
   "id": "cc5e74ba",
   "metadata": {},
   "source": [
    "## Logistic Regression:"
   ]
  },
  {
   "cell_type": "markdown",
   "id": "b0f505c0",
   "metadata": {},
   "source": [
    "### For simple histogram:"
   ]
  },
  {
   "cell_type": "code",
   "execution_count": 96,
   "id": "492be148",
   "metadata": {},
   "outputs": [],
   "source": [
    "from sklearn.linear_model import LogisticRegression"
   ]
  },
  {
   "cell_type": "code",
   "execution_count": 97,
   "id": "6c6e72e3",
   "metadata": {},
   "outputs": [
    {
     "name": "stderr",
     "output_type": "stream",
     "text": [
      "/home/aravind_sundarraj0112/.local/lib/python3.8/site-packages/scipy/optimize/_linesearch.py:456: LineSearchWarning: The line search algorithm did not converge\n",
      "  warn('The line search algorithm did not converge', LineSearchWarning)\n",
      "/home/aravind_sundarraj0112/.local/lib/python3.8/site-packages/scipy/optimize/_linesearch.py:305: LineSearchWarning: The line search algorithm did not converge\n",
      "  warn('The line search algorithm did not converge', LineSearchWarning)\n",
      "/home/aravind_sundarraj0112/.local/lib/python3.8/site-packages/sklearn/utils/optimize.py:210: ConvergenceWarning: newton-cg failed to converge. Increase the number of iterations.\n",
      "  warnings.warn(\n"
     ]
    },
    {
     "data": {
      "text/plain": [
       "LogisticRegression(random_state=0, solver='newton-cg')"
      ]
     },
     "execution_count": 97,
     "metadata": {},
     "output_type": "execute_result"
    }
   ],
   "source": [
    "model_global = LogisticRegression(solver='newton-cg', random_state=0)\n",
    "model_global.fit(X_train_global, Y_train)"
   ]
  },
  {
   "cell_type": "code",
   "execution_count": 325,
   "id": "8fdc2058",
   "metadata": {},
   "outputs": [
    {
     "data": {
      "text/plain": [
       "4    25927\n",
       "7     1868\n",
       "5      708\n",
       "3      128\n",
       "1       63\n",
       "6       15\n",
       "dtype: int64"
      ]
     },
     "execution_count": 325,
     "metadata": {},
     "output_type": "execute_result"
    }
   ],
   "source": [
    "y_log_pred_global_train = model_global.predict(X_train_global)\n",
    "pd.value_counts(y_log_pred_global_train)"
   ]
  },
  {
   "cell_type": "code",
   "execution_count": 326,
   "id": "774bd218",
   "metadata": {},
   "outputs": [
    {
     "data": {
      "text/plain": [
       "0.2607196349576788"
      ]
     },
     "execution_count": 326,
     "metadata": {},
     "output_type": "execute_result"
    }
   ],
   "source": [
    "logistic_acc_global_train = model_global.score(X_train_global, Y_train)\n",
    "logistic_acc_global_train"
   ]
  },
  {
   "cell_type": "code",
   "execution_count": 327,
   "id": "c34cc104",
   "metadata": {},
   "outputs": [
    {
     "data": {
      "text/plain": [
       "4    6511\n",
       "7     433\n",
       "5     178\n",
       "3      36\n",
       "1      16\n",
       "6       4\n",
       "dtype: int64"
      ]
     },
     "execution_count": 327,
     "metadata": {},
     "output_type": "execute_result"
    }
   ],
   "source": [
    "y_log_pred_global = model_global.predict(X_test_global)\n",
    "pd.value_counts(y_log_pred_global)"
   ]
  },
  {
   "cell_type": "code",
   "execution_count": 328,
   "id": "7845bc2c",
   "metadata": {},
   "outputs": [
    {
     "data": {
      "text/plain": [
       "0.25745332961827805"
      ]
     },
     "execution_count": 328,
     "metadata": {},
     "output_type": "execute_result"
    }
   ],
   "source": [
    "logistic_acc_global = model_global.score(X_test_global, Y_test)\n",
    "logistic_acc_global"
   ]
  },
  {
   "cell_type": "markdown",
   "id": "ca963b08",
   "metadata": {},
   "source": [
    "## Decision tree:"
   ]
  },
  {
   "cell_type": "markdown",
   "id": "9d64224c",
   "metadata": {},
   "source": [
    "### For simple histogram:"
   ]
  },
  {
   "cell_type": "code",
   "execution_count": 103,
   "id": "03613650",
   "metadata": {},
   "outputs": [],
   "source": [
    "from sklearn.tree import DecisionTreeClassifier\n",
    "from sklearn import metrics"
   ]
  },
  {
   "cell_type": "code",
   "execution_count": 104,
   "id": "3b0efd0f",
   "metadata": {},
   "outputs": [],
   "source": [
    "# Function to perform training with giniIndex.\n",
    "def train_using_gini(X_train, X_test, y_train):\n",
    "  \n",
    "    # Creating the classifier object\n",
    "    clf_gini = DecisionTreeClassifier(criterion = \"gini\",\n",
    "            random_state = 100,max_depth=3, min_samples_leaf=5)\n",
    "  \n",
    "    # Performing training\n",
    "    clf_gini.fit(X_train, y_train)\n",
    "    return clf_gini\n",
    "      "
   ]
  },
  {
   "cell_type": "code",
   "execution_count": 105,
   "id": "755ffe79",
   "metadata": {},
   "outputs": [],
   "source": [
    "# Function to perform training with entropy.\n",
    "def tarin_using_entropy(X_train, X_test, y_train):\n",
    "  \n",
    "    # Decision tree with entropy\n",
    "    clf_entropy = DecisionTreeClassifier(\n",
    "            criterion = \"entropy\", random_state = 100,\n",
    "            max_depth = 3, min_samples_leaf = 5)\n",
    "  \n",
    "    # Performing training\n",
    "    clf_entropy.fit(X_train, y_train)\n",
    "    return clf_entropy\n",
    "  \n",
    "  "
   ]
  },
  {
   "cell_type": "code",
   "execution_count": 106,
   "id": "5c3c6105",
   "metadata": {},
   "outputs": [],
   "source": [
    "# Function to make predictions\n",
    "def prediction(X_test, clf_object):\n",
    "  \n",
    "    # Predicton on test with giniIndex\n",
    "    y_pred = clf_object.predict(X_test)\n",
    "    print(\"Predicted values:\")\n",
    "    print(y_pred)\n",
    "    return y_pred\n",
    "      \n",
    "# Function to calculate accuracy\n",
    "def cal_accuracy(y_test, y_pred):\n",
    "      \n",
    "    print(\"Confusion Matrix: \",\n",
    "        confusion_matrix(y_test, y_pred))\n",
    "      \n",
    "    print (\"Accuracy : \",\n",
    "    metrics.accuracy_score(y_test,y_pred)*100)"
   ]
  },
  {
   "cell_type": "code",
   "execution_count": 107,
   "id": "ebac5944",
   "metadata": {},
   "outputs": [],
   "source": [
    "clf_gini_global = train_using_gini(X_train_global, X_test_global, Y_train)\n",
    "clf_entropy_global = tarin_using_entropy(X_train_global, X_test_global, Y_train)"
   ]
  },
  {
   "cell_type": "code",
   "execution_count": 331,
   "id": "65eef84c",
   "metadata": {},
   "outputs": [
    {
     "name": "stdout",
     "output_type": "stream",
     "text": [
      "Predicted values:\n",
      "[4 4 4 ... 4 4 4]\n",
      "Confusion Matrix:  [[   0    0  276 3196  223    0  300]\n",
      " [   0    0   10  339   43    0   44]\n",
      " [   0    0  309 3024  204    0  560]\n",
      " [   0    0  251 6126  307    0  531]\n",
      " [   0    0  190 4081  338    0  356]\n",
      " [   0    0  193 3942  312    0  383]\n",
      " [   0    0  225 2072  118    0  756]]\n",
      "Accuracy :  26.225225539029573\n"
     ]
    }
   ],
   "source": [
    "y_pred_gini_global_train = prediction(X_train_global, clf_gini_global)\n",
    "dt_gini_accuracy_global_train = cal_accuracy(Y_train, y_pred_gini_global_train)\n",
    "dt_gini_accuracy_global_train"
   ]
  },
  {
   "cell_type": "code",
   "execution_count": 333,
   "id": "d2a4ed02",
   "metadata": {},
   "outputs": [
    {
     "name": "stdout",
     "output_type": "stream",
     "text": [
      "Predicted values:\n",
      "[4 4 4 ... 4 4 4]\n",
      "Confusion Matrix:  [[   0    0  276 3336   83    0  300]\n",
      " [   0    0   10  366   16    0   44]\n",
      " [   0    0  309 3116  112    0  560]\n",
      " [   0    0  251 6297  136    0  531]\n",
      " [   0    0  190 4252  167    0  356]\n",
      " [   0    0  193 4131  123    0  383]\n",
      " [   0    0  225 2121   69    0  756]]\n",
      "Accuracy :  26.225225539029573\n"
     ]
    }
   ],
   "source": [
    "y_pred_entropy_global_train = prediction(X_train_global, clf_entropy_global)\n",
    "dt_entropy_accuracy_global_train = cal_accuracy(Y_train, y_pred_entropy_global_train)\n",
    "dt_entropy_accuracy_global_train"
   ]
  },
  {
   "cell_type": "code",
   "execution_count": 332,
   "id": "e6f8c0f1",
   "metadata": {
    "scrolled": true
   },
   "outputs": [
    {
     "name": "stdout",
     "output_type": "stream",
     "text": [
      "Predicted values:\n",
      "[4 4 7 ... 4 7 4]\n",
      "Confusion Matrix:  [[   0    0   68  759   61    0   70]\n",
      " [   0    0    2   79   13    0   17]\n",
      " [   0    0   73  762   55    0  134]\n",
      " [   0    0   70 1497   85    0  122]\n",
      " [   0    0   46 1014   88    0   85]\n",
      " [   0    0   44 1038   85    0   80]\n",
      " [   0    0   51  558   28    0  194]]\n",
      "Accuracy :  25.801058790749515\n"
     ]
    }
   ],
   "source": [
    "y_pred_gini_global = prediction(X_test_global, clf_gini_global)\n",
    "dt_gini_accuracy_global = cal_accuracy(Y_test, y_pred_gini_global)\n",
    "dt_gini_accuracy_global"
   ]
  },
  {
   "cell_type": "code",
   "execution_count": 334,
   "id": "e2b0173f",
   "metadata": {
    "scrolled": true
   },
   "outputs": [
    {
     "name": "stdout",
     "output_type": "stream",
     "text": [
      "Predicted values:\n",
      "[4 4 7 ... 4 7 4]\n",
      "Confusion Matrix:  [[   0    0   68  800   20    0   70]\n",
      " [   0    0    2   91    1    0   17]\n",
      " [   0    0   73  789   28    0  134]\n",
      " [   0    0   70 1539   43    0  122]\n",
      " [   0    0   46 1058   44    0   85]\n",
      " [   0    0   44 1093   30    0   80]\n",
      " [   0    0   51  568   18    0  194]]\n",
      "Accuracy :  25.773195876288657\n"
     ]
    }
   ],
   "source": [
    "y_pred_entropy_global = prediction(X_test_global, clf_entropy_global)\n",
    "dt_entropy_accuracy_global = cal_accuracy(Y_test, y_pred_entropy_global)\n",
    "dt_entropy_accuracy_global"
   ]
  },
  {
   "cell_type": "markdown",
   "id": "deb56d75",
   "metadata": {},
   "source": [
    "## Random Forest:"
   ]
  },
  {
   "cell_type": "markdown",
   "id": "ddb44952",
   "metadata": {},
   "source": [
    "### For simple histogram:"
   ]
  },
  {
   "cell_type": "code",
   "execution_count": null,
   "id": "ce565b9f",
   "metadata": {},
   "outputs": [],
   "source": [
    "from sklearn.ensemble import RandomForestClassifier\n",
    "from sklearn import metrics\n",
    "\n",
    "#Create a Gaussian Classifier\n",
    "clf_global = RandomForestClassifier(n_estimators=500)\n",
    "\n",
    "clf_global.fit(X_train_global,Y_train)\n",
    "\n",
    "y_pred_rf_global = clf_global.predict(X_test_global)\n",
    "\n",
    "rf_accuracy_global = metrics.accuracy_score(Y_test, y_pred_rf_global)\n",
    "print(\"Accuracy:\", rf_accuracy_global)"
   ]
  },
  {
   "cell_type": "markdown",
   "id": "22e86006",
   "metadata": {},
   "source": [
    "### For 200 values of estimators:"
   ]
  },
  {
   "cell_type": "code",
   "execution_count": 423,
   "id": "1e3bea1f",
   "metadata": {},
   "outputs": [
    {
     "data": {
      "text/plain": [
       "Text(0, 0.5, 'Training Accuracy')"
      ]
     },
     "execution_count": 423,
     "metadata": {},
     "output_type": "execute_result"
    },
    {
     "data": {
      "image/png": "[encoded data removed]",
      "text/plain": [
       "<Figure size 432x288 with 1 Axes>"
      ]
     },
     "metadata": {
      "needs_background": "light"
     },
     "output_type": "display_data"
    }
   ],
   "source": [
    "rf_gb_est = np.linspace(start = 50, stop = 500, num = 46, dtype = int)\n",
    "accuracies_global_train =[]\n",
    "for k in rf_gb_est:\n",
    "    rfc_global = RandomForestClassifier(n_estimators=k)\n",
    "    rfc_global.fit(X_train_global, Y_train)\n",
    "    y_pred_rf_global = rfc_global.predict(X_train_global)\n",
    "    accuracies_global_train.append(metrics.accuracy_score(Y_train, y_pred_rf_global))\n",
    "\n",
    "%matplotlib inline\n",
    "\n",
    "# plot the relationship between K and testing accuracy\n",
    "# plt.plot(x_axis, y_axis)\n",
    "plt.plot(np.linspace(start = 50, stop = 500, num = 46, dtype = int), accuracies_global_train)\n",
    "plt.xlabel('Value of n_estimators for Random Forest Classifier')\n",
    "plt.ylabel('Training Accuracy')"
   ]
  },
  {
   "cell_type": "code",
   "execution_count": 424,
   "id": "e07e40df",
   "metadata": {},
   "outputs": [
    {
     "data": {
      "text/plain": [
       "0.9985022118499425"
      ]
     },
     "execution_count": 424,
     "metadata": {},
     "output_type": "execute_result"
    }
   ],
   "source": [
    "rf_accuracy_global_train = max(accuracies_global_train)\n",
    "rf_accuracy_global_train"
   ]
  },
  {
   "cell_type": "code",
   "execution_count": 114,
   "id": "525fafb9",
   "metadata": {},
   "outputs": [
    {
     "data": {
      "text/plain": [
       "Text(0, 0.5, 'Testing Accuracy')"
      ]
     },
     "execution_count": 114,
     "metadata": {},
     "output_type": "execute_result"
    },
    {
     "data": {
      "image/png": "[encoded data removed]",
      "text/plain": [
       "<Figure size 432x288 with 1 Axes>"
      ]
     },
     "metadata": {
      "needs_background": "light"
     },
     "output_type": "display_data"
    }
   ],
   "source": [
    "rf_gb_est = np.linspace(start = 50, stop = 500, num = 46, dtype = int)\n",
    "accuracies_global =[]\n",
    "for k in rf_gb_est:\n",
    "    rfc_global = RandomForestClassifier(n_estimators=k)\n",
    "    rfc_global.fit(X_train_global, Y_train)\n",
    "    y_pred_rf_global = rfc_global.predict(X_test_global)\n",
    "    accuracies_global.append(metrics.accuracy_score(Y_test, y_pred_rf_global))\n",
    "\n",
    "%matplotlib inline\n",
    "\n",
    "# plot the relationship between K and testing accuracy\n",
    "# plt.plot(x_axis, y_axis)\n",
    "plt.plot(np.linspace(start = 50, stop = 500, num = 46, dtype = int), accuracies_global)\n",
    "plt.xlabel('Value of n_estimators for Random Forest Classifier')\n",
    "plt.ylabel('Testing Accuracy')"
   ]
  },
  {
   "cell_type": "code",
   "execution_count": 115,
   "id": "07532449",
   "metadata": {},
   "outputs": [
    {
     "data": {
      "text/plain": [
       "0.34912231819448314"
      ]
     },
     "execution_count": 115,
     "metadata": {},
     "output_type": "execute_result"
    }
   ],
   "source": [
    "rf_accuracy_global = max(accuracies_global)\n",
    "rf_accuracy_global"
   ]
  },
  {
   "cell_type": "markdown",
   "id": "7d380bef",
   "metadata": {},
   "source": [
    "## DataFrame of Accuracies:"
   ]
  },
  {
   "cell_type": "markdown",
   "id": "a21d75dc",
   "metadata": {},
   "source": [
    "### For simple histogram:"
   ]
  },
  {
   "cell_type": "code",
   "execution_count": null,
   "id": "0cf0a8eb",
   "metadata": {},
   "outputs": [],
   "source": [
    "global_l_train = [knn_accuracy_global_train, accuracy_rbf_global_train, logistic_acc_global_train, rf_accuracy_global_train]\n",
    "local_l_train = [knn_accuracy_local_train, accuracy_rbf_local_train, logistic_acc_local_train, rf_accuracy_local_train]\n",
    "final_l_train = [knn_accuracy_final_train, accuracy_rbf_final_train, logistic_acc_final_train, rf_accuracy_final_train]"
   ]
  },
  {
   "cell_type": "code",
   "execution_count": null,
   "id": "502bfaf1",
   "metadata": {},
   "outputs": [],
   "source": [
    "accuracy_df_train = pd.DataFrame([global_l, local_l, final_l])\n",
    "accuracy_df_train = accuracy_df_train.T\n",
    "accuracy_df_train.columns = [\"Global\", \"Local\", \"Global+Local\"]\n",
    "accuracy_df_train.index = [\"KNN\", \"SVM(RBF Kernel)\", \"Logistic\", \"Random Forest\"]"
   ]
  },
  {
   "cell_type": "code",
   "execution_count": null,
   "id": "9ad5fcb7",
   "metadata": {},
   "outputs": [],
   "source": [
    "accuracy_df_train"
   ]
  },
  {
   "cell_type": "code",
   "execution_count": 267,
   "id": "2036bf6b",
   "metadata": {},
   "outputs": [],
   "source": [
    "global_l = [knn_accuracy_global, accuracy_rbf_global, logistic_acc_global, rf_accuracy_global]\n",
    "local_l = [knn_accuracy_local, accuracy_rbf_local, logistic_acc_local, rf_accuracy_local]\n",
    "final_l = [knn_accuracy_final, accuracy_rbf_final, logistic_acc_final, rf_accuracy_final]"
   ]
  },
  {
   "cell_type": "code",
   "execution_count": 268,
   "id": "7209fd70",
   "metadata": {},
   "outputs": [],
   "source": [
    "accuracy_df = pd.DataFrame([global_l, local_l, final_l])\n",
    "accuracy_df = accuracy_df.T\n",
    "accuracy_df.columns = [\"Global\", \"Local\", \"Global+Local\"]\n",
    "accuracy_df.index = [\"KNN\", \"SVM(RBF Kernel)\", \"Logistic\", \"Random Forest\"]"
   ]
  },
  {
   "cell_type": "code",
   "execution_count": 269,
   "id": "80f60e0f",
   "metadata": {},
   "outputs": [
    {
     "data": {
      "text/html": [
       "<div>\n",
       "<style scoped>\n",
       "    .dataframe tbody tr th:only-of-type {\n",
       "        vertical-align: middle;\n",
       "    }\n",
       "\n",
       "    .dataframe tbody tr th {\n",
       "        vertical-align: top;\n",
       "    }\n",
       "\n",
       "    .dataframe thead th {\n",
       "        text-align: right;\n",
       "    }\n",
       "</style>\n",
       "<table border=\"1\" class=\"dataframe\">\n",
       "  <thead>\n",
       "    <tr style=\"text-align: right;\">\n",
       "      <th></th>\n",
       "      <th>Global</th>\n",
       "      <th>Local</th>\n",
       "      <th>Global+Local</th>\n",
       "    </tr>\n",
       "  </thead>\n",
       "  <tbody>\n",
       "    <tr>\n",
       "      <th>KNN</th>\n",
       "      <td>0.259125</td>\n",
       "      <td>0.338813</td>\n",
       "      <td>0.335748</td>\n",
       "    </tr>\n",
       "    <tr>\n",
       "      <th>SVM(RBF Kernel)</th>\n",
       "      <td>0.255921</td>\n",
       "      <td>0.313179</td>\n",
       "      <td>0.298690</td>\n",
       "    </tr>\n",
       "    <tr>\n",
       "      <th>Logistic</th>\n",
       "      <td>0.257453</td>\n",
       "      <td>0.309557</td>\n",
       "      <td>0.317498</td>\n",
       "    </tr>\n",
       "    <tr>\n",
       "      <th>Random Forest</th>\n",
       "      <td>0.349122</td>\n",
       "      <td>0.423656</td>\n",
       "      <td>0.425188</td>\n",
       "    </tr>\n",
       "  </tbody>\n",
       "</table>\n",
       "</div>"
      ],
      "text/plain": [
       "                   Global     Local  Global+Local\n",
       "KNN              0.259125  0.338813      0.335748\n",
       "SVM(RBF Kernel)  0.255921  0.313179      0.298690\n",
       "Logistic         0.257453  0.309557      0.317498\n",
       "Random Forest    0.349122  0.423656      0.425188"
      ]
     },
     "execution_count": 269,
     "metadata": {},
     "output_type": "execute_result"
    }
   ],
   "source": [
    "accuracy_df"
   ]
  },
  {
   "cell_type": "markdown",
   "id": "8e053989",
   "metadata": {},
   "source": [
    "### For normalized histogram:"
   ]
  },
  {
   "cell_type": "code",
   "execution_count": null,
   "id": "8d467a59",
   "metadata": {},
   "outputs": [],
   "source": [
    "global_l_norm_train = [knn_accuracy_global_norm_train, accuracy_pol_1_global_norm_train, logistic_acc_global_norm_train, rf_accuracy_global_norm_train]\n",
    "local_l_norm_train = [knn_accuracy_local_norm_train, accuracy_pol_3_local_norm_train, logistic_acc_local_norm_train, rf_accuracy_local_norm_train]\n",
    "final_l_norm_train = [knn_accuracy_final_norm_train, accuracy_pol_3_final_norm_train, logistic_acc_final_norm_train, rf_accuracy_final_norm_train]"
   ]
  },
  {
   "cell_type": "code",
   "execution_count": null,
   "id": "d02a2f48",
   "metadata": {},
   "outputs": [],
   "source": [
    "accuracy_df_norm_train = pd.DataFrame([global_l_norm_train, local_l_norm_train, final_l_norm_train])\n",
    "accuracy_df_norm_train = accuracy_df_norm_train.T\n",
    "accuracy_df_norm_train.columns = [\"Global_Norm\", \"Local_Norm\", \"Global_Norm + Local_Norm\"]\n",
    "accuracy_df_norm_train.index = [\"KNN\", \"SVM\", \"Logistic\", \"Random Forest\"]"
   ]
  },
  {
   "cell_type": "code",
   "execution_count": null,
   "id": "4e1324d0",
   "metadata": {},
   "outputs": [],
   "source": [
    "accuracy_df_norm_train"
   ]
  },
  {
   "cell_type": "code",
   "execution_count": 270,
   "id": "42a74c8d",
   "metadata": {},
   "outputs": [],
   "source": [
    "global_l_norm = [knn_accuracy_global_norm, accuracy_pol_1_global_norm, logistic_acc_global_norm, rf_accuracy_global_norm]\n",
    "local_l_norm = [knn_accuracy_local_norm, accuracy_pol_3_local_norm, logistic_acc_local_norm, rf_accuracy_local_norm]\n",
    "final_l_norm = [knn_accuracy_final_norm, accuracy_pol_3_final_norm, logistic_acc_final_norm, rf_accuracy_final_norm]"
   ]
  },
  {
   "cell_type": "code",
   "execution_count": 271,
   "id": "454c485f",
   "metadata": {},
   "outputs": [],
   "source": [
    "accuracy_df_norm = pd.DataFrame([global_l_norm, local_l_norm, final_l_norm])\n",
    "accuracy_df_norm = accuracy_df_norm.T\n",
    "accuracy_df_norm.columns = [\"Global_Norm\", \"Local_Norm\", \"Global_Norm + Local_Norm\"]\n",
    "accuracy_df_norm.index = [\"KNN\", \"SVM\", \"Logistic\", \"Random Forest\"]"
   ]
  },
  {
   "cell_type": "code",
   "execution_count": 272,
   "id": "0bad853a",
   "metadata": {},
   "outputs": [
    {
     "data": {
      "text/html": [
       "<div>\n",
       "<style scoped>\n",
       "    .dataframe tbody tr th:only-of-type {\n",
       "        vertical-align: middle;\n",
       "    }\n",
       "\n",
       "    .dataframe tbody tr th {\n",
       "        vertical-align: top;\n",
       "    }\n",
       "\n",
       "    .dataframe thead th {\n",
       "        text-align: right;\n",
       "    }\n",
       "</style>\n",
       "<table border=\"1\" class=\"dataframe\">\n",
       "  <thead>\n",
       "    <tr style=\"text-align: right;\">\n",
       "      <th></th>\n",
       "      <th>Global_Norm</th>\n",
       "      <th>Local_Norm</th>\n",
       "      <th>Global_Norm + Local_Norm</th>\n",
       "    </tr>\n",
       "  </thead>\n",
       "  <tbody>\n",
       "    <tr>\n",
       "      <th>KNN</th>\n",
       "      <td>0.148509</td>\n",
       "      <td>0.148370</td>\n",
       "      <td>0.140568</td>\n",
       "    </tr>\n",
       "    <tr>\n",
       "      <th>SVM</th>\n",
       "      <td>0.247144</td>\n",
       "      <td>0.242129</td>\n",
       "      <td>0.223043</td>\n",
       "    </tr>\n",
       "    <tr>\n",
       "      <th>Logistic</th>\n",
       "      <td>0.247144</td>\n",
       "      <td>0.247144</td>\n",
       "      <td>0.247144</td>\n",
       "    </tr>\n",
       "    <tr>\n",
       "      <th>Random Forest</th>\n",
       "      <td>0.141126</td>\n",
       "      <td>0.155893</td>\n",
       "      <td>0.157425</td>\n",
       "    </tr>\n",
       "  </tbody>\n",
       "</table>\n",
       "</div>"
      ],
      "text/plain": [
       "               Global_Norm  Local_Norm  Global_Norm + Local_Norm\n",
       "KNN               0.148509    0.148370                  0.140568\n",
       "SVM               0.247144    0.242129                  0.223043\n",
       "Logistic          0.247144    0.247144                  0.247144\n",
       "Random Forest     0.141126    0.155893                  0.157425"
      ]
     },
     "execution_count": 272,
     "metadata": {},
     "output_type": "execute_result"
    }
   ],
   "source": [
    "accuracy_df_norm"
   ]
  },
  {
   "cell_type": "code",
   "execution_count": null,
   "id": "8e1fcddc",
   "metadata": {},
   "outputs": [],
   "source": []
  }
 ],
 "metadata": {
  "kernelspec": {
   "display_name": "Python 3 (ipykernel)",
   "language": "python",
   "name": "python3"
  },
  "language_info": {
   "codemirror_mode": {
    "name": "ipython",
    "version": 3
   },
   "file_extension": ".py",
   "mimetype": "text/x-python",
   "name": "python",
   "nbconvert_exporter": "python",
   "pygments_lexer": "ipython3",
   "version": "3.10.5"
  }
 },
 "nbformat": 4,
 "nbformat_minor": 5
}
