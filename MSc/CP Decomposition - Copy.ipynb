{
 "cells": [
  {
   "cell_type": "markdown",
   "id": "bfcbbbef",
   "metadata": {},
   "source": [
    "<h1> CP Decomposition and Image Compression </h1>"
   ]
  },
  {
   "cell_type": "markdown",
   "id": "f7290ad4",
   "metadata": {},
   "source": [
    "Importing required libraries"
   ]
  },
  {
   "cell_type": "code",
   "execution_count": 1,
   "id": "5e090821",
   "metadata": {},
   "outputs": [],
   "source": [
    "import numpy as np\n",
    "from scipy import linalg\n",
    "import matplotlib.pyplot as plt\n",
    "import tensorly as tl\n",
    "from tensorflow.keras import datasets"
   ]
  },
  {
   "cell_type": "markdown",
   "id": "9e0c739b",
   "metadata": {},
   "source": [
    "## Input Section"
   ]
  },
  {
   "cell_type": "code",
   "execution_count": 2,
   "id": "33299506",
   "metadata": {},
   "outputs": [
    {
     "name": "stdout",
     "output_type": "stream",
     "text": [
      "Enter the order of the Tensor: 2\n",
      "Enter the shape of the tensor:\n",
      "28\n",
      "28\n"
     ]
    }
   ],
   "source": [
    "n = int(input(\"Enter the order of the Tensor: \"))\n",
    "\n",
    "print(\"Enter the shape of the tensor:\")\n",
    "shape = []\n",
    "for i in range(n):\n",
    "    shape.append(int(input()))"
   ]
  },
  {
   "cell_type": "markdown",
   "id": "ecfd684a",
   "metadata": {},
   "source": [
    "<font size = '3'><b> Image Input </b></font>\n",
    "\n",
    "Taking image input from MNIST dataset in python.\n",
    "This is the collection of 28x28 pixel image (black & white)"
   ]
  },
  {
   "cell_type": "code",
   "execution_count": 3,
   "id": "1bbe3e09",
   "metadata": {},
   "outputs": [],
   "source": [
    "from keras.datasets import mnist"
   ]
  },
  {
   "cell_type": "code",
   "execution_count": 4,
   "id": "14221cc5",
   "metadata": {},
   "outputs": [],
   "source": [
    "(img_train, _), (img_test, _) = mnist.load_data()"
   ]
  },
  {
   "cell_type": "code",
   "execution_count": 5,
   "id": "76d7539f",
   "metadata": {},
   "outputs": [
    {
     "data": {
      "image/png": "[encoded data removed]",
      "text/plain": [
       "<Figure size 216x216 with 1 Axes>"
      ]
     },
     "metadata": {
      "needs_background": "light"
     },
     "output_type": "display_data"
    }
   ],
   "source": [
    "plt.figure(figsize = (3,3))\n",
    "plt.imshow(img_train[22], cmap = 'binary')\n",
    "plt.show()"
   ]
  },
  {
   "cell_type": "code",
   "execution_count": 6,
   "id": "e1353e27",
   "metadata": {},
   "outputs": [
    {
     "data": {
      "text/plain": [
       "(28, 28)"
      ]
     },
     "execution_count": 6,
     "metadata": {},
     "output_type": "execute_result"
    }
   ],
   "source": [
    "val = img_train[22]\n",
    "val.shape"
   ]
  },
  {
   "cell_type": "markdown",
   "id": "3589f441",
   "metadata": {},
   "source": [
    "<font size = '2'> Setting up the other paramaters: </font>\n",
    "- <b>eps</b> - error limit\n",
    "- <b>k</b> - order of approximation\n",
    "- <b>iter</b> - Max. no. of iteration"
   ]
  },
  {
   "cell_type": "code",
   "execution_count": 7,
   "id": "f2c324e3",
   "metadata": {},
   "outputs": [
    {
     "name": "stdout",
     "output_type": "stream",
     "text": [
      "Enter the value of epsilon: 0.0001\n",
      "\n",
      "We are going to find K-th rank approximation: \n",
      "Enter the value of k: 8\n",
      "\n",
      "Enter max. number of iteration: 10000\n"
     ]
    }
   ],
   "source": [
    "eps = float(input('Enter the value of epsilon: '))\n",
    "\n",
    "print('\\nWe are going to find K-th rank approximation: ')\n",
    "k = int(input('Enter the value of k: '))\n",
    "\n",
    "iter = int(input('\\nEnter max. number of iteration: '))"
   ]
  },
  {
   "cell_type": "code",
   "execution_count": 8,
   "id": "ccfe1cf5",
   "metadata": {
    "scrolled": true
   },
   "outputs": [
    {
     "data": {
      "text/plain": [
       "(8, 0.0001, 10000)"
      ]
     },
     "execution_count": 8,
     "metadata": {},
     "output_type": "execute_result"
    }
   ],
   "source": [
    "k, eps, iter"
   ]
  },
  {
   "cell_type": "markdown",
   "id": "e9cfe9e6",
   "metadata": {},
   "source": [
    "<font size = '2'> Setting Initial Factor Matrices </font>"
   ]
  },
  {
   "cell_type": "code",
   "execution_count": 9,
   "id": "22bc7223",
   "metadata": {
    "scrolled": true
   },
   "outputs": [],
   "source": [
    "A = []\n",
    "for i in range(n):\n",
    "    A.append(np.random.normal(size = (shape[i],k), loc = 0, scale = 1 / k))"
   ]
  },
  {
   "cell_type": "markdown",
   "id": "54722a76",
   "metadata": {},
   "source": [
    "Finding the m-modes matrices"
   ]
  },
  {
   "cell_type": "code",
   "execution_count": 10,
   "id": "d0aec5c7",
   "metadata": {},
   "outputs": [],
   "source": [
    "val_m = []\n",
    "\n",
    "for i in range(n):\n",
    "    val_m.append(tl.unfold(val,i))\n",
    "\n",
    "# val_m"
   ]
  },
  {
   "cell_type": "markdown",
   "id": "2caa2091",
   "metadata": {},
   "source": [
    "## ALS: Alternating Least Square"
   ]
  },
  {
   "cell_type": "markdown",
   "id": "f059f566",
   "metadata": {},
   "source": [
    "### Matrix Method for Approximation"
   ]
  },
  {
   "cell_type": "code",
   "execution_count": 11,
   "id": "a6950f7a",
   "metadata": {
    "scrolled": true
   },
   "outputs": [],
   "source": [
    "for a in range(iter):\n",
    "    # iteration\n",
    "    \n",
    "    for k_mode in range(n):\n",
    "    \n",
    "        temp = A.copy()\n",
    "        temp.pop(k_mode)\n",
    "\n",
    "        B = temp[0]\n",
    "        for ele in temp[1:]:\n",
    "            B = linalg.khatri_rao(B, ele)\n",
    "        \n",
    "        A[k_mode] = np.matmul(val_m[k_mode], np.matmul(B, linalg.inv(np.matmul(B.T, B))))\n",
    "                        \n",
    "        err = tl.norm(val_m[k_mode] - np.matmul(A[k_mode], B.T))\n",
    "        if err < eps:\n",
    "            break\n",
    "    if err < eps:\n",
    "        break"
   ]
  },
  {
   "cell_type": "markdown",
   "id": "2d5bab79",
   "metadata": {},
   "source": [
    "### Approximated Tensor"
   ]
  },
  {
   "cell_type": "code",
   "execution_count": 12,
   "id": "a39eeac9",
   "metadata": {
    "scrolled": true
   },
   "outputs": [],
   "source": [
    "result = []\n",
    "for i in range(n):\n",
    "    value = []\n",
    "    for col in range(A[i].shape[1]):\n",
    "        value.append(A[i][:,col])\n",
    "    \n",
    "    result.append(value)\n",
    "# print(result)"
   ]
  },
  {
   "cell_type": "code",
   "execution_count": 13,
   "id": "c3c8bde5",
   "metadata": {},
   "outputs": [],
   "source": [
    "final_val = 0\n",
    "for j in range(k):\n",
    "    prod_val = []\n",
    "    for i in range(n):\n",
    "        prod_val.append(result[i][j])\n",
    "    final_val += tl.tenalg.outer(prod_val)\n",
    "    \n",
    "# display(final_val, val)"
   ]
  },
  {
   "cell_type": "code",
   "execution_count": 14,
   "id": "7866a2f0",
   "metadata": {},
   "outputs": [
    {
     "data": {
      "text/plain": [
       "(1772.0521072339723, 103.82196299434914, 122.71238424735284)"
      ]
     },
     "execution_count": 14,
     "metadata": {},
     "output_type": "execute_result"
    }
   ],
   "source": [
    "tl.norm(final_val), tl.norm(val), tl.norm(final_val - val)"
   ]
  },
  {
   "cell_type": "markdown",
   "id": "8df4c474",
   "metadata": {},
   "source": [
    "### Relative Error!"
   ]
  },
  {
   "cell_type": "code",
   "execution_count": 15,
   "id": "0e311f81",
   "metadata": {},
   "outputs": [
    {
     "data": {
      "text/plain": [
       "1.1819501453081935"
      ]
     },
     "execution_count": 15,
     "metadata": {},
     "output_type": "execute_result"
    }
   ],
   "source": [
    "tl.norm(final_val - val) / tl.norm(val)"
   ]
  },
  {
   "cell_type": "markdown",
   "id": "a78c3c24",
   "metadata": {},
   "source": [
    "# Image Data Compression"
   ]
  },
  {
   "cell_type": "markdown",
   "id": "0cd4bb75",
   "metadata": {},
   "source": [
    "## Example 1"
   ]
  },
  {
   "cell_type": "code",
   "execution_count": 16,
   "id": "1eac005c",
   "metadata": {},
   "outputs": [],
   "source": [
    "import cv2"
   ]
  },
  {
   "cell_type": "code",
   "execution_count": 17,
   "id": "04e9a610",
   "metadata": {},
   "outputs": [
    {
     "data": {
      "text/plain": [
       "True"
      ]
     },
     "execution_count": 17,
     "metadata": {},
     "output_type": "execute_result"
    }
   ],
   "source": [
    "cv2.imwrite(\"img.jpg\", final_val)"
   ]
  },
  {
   "cell_type": "code",
   "execution_count": 18,
   "id": "e4af4062",
   "metadata": {},
   "outputs": [
    {
     "data": {
      "text/plain": [
       "True"
      ]
     },
     "execution_count": 18,
     "metadata": {},
     "output_type": "execute_result"
    }
   ],
   "source": [
    "cv2.imwrite('ac_img.jpg', val)"
   ]
  },
  {
   "cell_type": "code",
   "execution_count": 19,
   "id": "eefdb1d9",
   "metadata": {
    "scrolled": true
   },
   "outputs": [
    {
     "data": {
      "image/png": "[encoded data removed]",
      "text/plain": [
       "<Figure size 288x288 with 2 Axes>"
      ]
     },
     "metadata": {
      "needs_background": "light"
     },
     "output_type": "display_data"
    }
   ],
   "source": [
    "final_val = np.floor(final_val).astype(int)\n",
    "\n",
    "fig = plt.figure(figsize = (4,4))\n",
    "\n",
    "fig.add_subplot(1,2,2)\n",
    "plt.imshow(val, cmap = 'binary')\n",
    "plt.axis('off')\n",
    "plt.title('Actual')\n",
    "\n",
    "fig.add_subplot(1,2,1)\n",
    "plt.imshow(final_val, cmap = 'binary')\n",
    "plt.axis('off')\n",
    "plt.title('Compressed')\n",
    "\n",
    "plt.show()"
   ]
  },
  {
   "cell_type": "markdown",
   "id": "54f8f2b0",
   "metadata": {},
   "source": [
    "### No. of Pixels"
   ]
  },
  {
   "cell_type": "code",
   "execution_count": 20,
   "id": "ff9c3b78",
   "metadata": {},
   "outputs": [
    {
     "name": "stdout",
     "output_type": "stream",
     "text": [
      "Actual:         28 * 28   = 784\n",
      "Compressed: (28 + 28) * 8 = 448\n"
     ]
    }
   ],
   "source": [
    "print(\"Actual:      \", end = '')\n",
    "print('   28 * 28   =', 28 * 28)\n",
    "\n",
    "print(\"Compressed:\", end = ' ')\n",
    "print('(28 + 28) * 8 =', (28 + 28) * 8)"
   ]
  }
 ],
 "metadata": {
  "kernelspec": {
   "display_name": "Python 3 (ipykernel)",
   "language": "python",
   "name": "python3"
  },
  "language_info": {
   "codemirror_mode": {
    "name": "ipython",
    "version": 3
   },
   "file_extension": ".py",
   "mimetype": "text/x-python",
   "name": "python",
   "nbconvert_exporter": "python",
   "pygments_lexer": "ipython3",
   "version": "3.10.5"
  }
 },
 "nbformat": 4,
 "nbformat_minor": 5
}
